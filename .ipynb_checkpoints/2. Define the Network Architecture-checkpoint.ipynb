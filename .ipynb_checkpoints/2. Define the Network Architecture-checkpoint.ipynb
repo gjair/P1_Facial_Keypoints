{
 "cells": [
  {
   "cell_type": "markdown",
   "metadata": {},
   "source": [
    "## Define the Convolutional Neural Network\n",
    "\n",
    "After you've looked at the data you're working with and, in this case, know the shapes of the images and of the keypoints, you are ready to define a convolutional neural network that can *learn* from this data.\n",
    "\n",
    "In this notebook and in `models.py`, you will:\n",
    "1. Define a CNN with images as input and keypoints as output\n",
    "2. Construct the transformed FaceKeypointsDataset, just as before\n",
    "3. Train the CNN on the training data, tracking loss\n",
    "4. See how the trained model performs on test data\n",
    "5. If necessary, modify the CNN structure and model hyperparameters, so that it performs *well* **\\***\n",
    "\n",
    "**\\*** What does *well* mean?\n",
    "\n",
    "\"Well\" means that the model's loss decreases during training **and**, when applied to test image data, the model produces keypoints that closely match the true keypoints of each face. And you'll see examples of this later in the notebook.\n",
    "\n",
    "---\n"
   ]
  },
  {
   "cell_type": "markdown",
   "metadata": {},
   "source": [
    "## CNN Architecture\n",
    "\n",
    "Recall that CNN's are defined by a few types of layers:\n",
    "* Convolutional layers\n",
    "* Maxpooling layers\n",
    "* Fully-connected layers\n",
    "\n",
    "You are required to use the above layers and encouraged to add multiple convolutional layers and things like dropout layers that may prevent overfitting. You are also encouraged to look at literature on keypoint detection, such as [this paper](https://arxiv.org/pdf/1710.00977.pdf), to help you determine the structure of your network.\n",
    "\n",
    "\n",
    "### TODO: Define your model in the provided file `models.py` file\n",
    "\n",
    "This file is mostly empty but contains the expected name and some TODO's for creating your model.\n",
    "\n",
    "---"
   ]
  },
  {
   "cell_type": "markdown",
   "metadata": {},
   "source": [
    "## PyTorch Neural Nets\n",
    "\n",
    "To define a neural network in PyTorch, you define the layers of a model in the function `__init__` and define the feedforward behavior of a network that employs those initialized layers in the function `forward`, which takes in an input image tensor, `x`. The structure of this Net class is shown below and left for you to fill in.\n",
    "\n",
    "Note: During training, PyTorch will be able to perform backpropagation by keeping track of the network's feedforward behavior and using autograd to calculate the update to the weights in the network.\n",
    "\n",
    "#### Define the Layers in ` __init__`\n",
    "As a reminder, a conv/pool layer may be defined like this (in `__init__`):\n",
    "```\n",
    "# 1 input image channel (for grayscale images), 32 output channels/feature maps, 3x3 square convolution kernel\n",
    "self.conv1 = nn.Conv2d(1, 32, 3)\n",
    "\n",
    "# maxpool that uses a square window of kernel_size=2, stride=2\n",
    "self.pool = nn.MaxPool2d(2, 2)      \n",
    "```\n",
    "\n",
    "#### Refer to Layers in `forward`\n",
    "Then referred to in the `forward` function like this, in which the conv1 layer has a ReLu activation applied to it before maxpooling is applied:\n",
    "```\n",
    "x = self.pool(F.relu(self.conv1(x)))\n",
    "```\n",
    "\n",
    "Best practice is to place any layers whose weights will change during the training process in `__init__` and refer to them in the `forward` function; any layers or functions that always behave in the same way, such as a pre-defined activation function, should appear *only* in the `forward` function."
   ]
  },
  {
   "cell_type": "markdown",
   "metadata": {},
   "source": [
    "#### Why models.py\n",
    "\n",
    "You are tasked with defining the network in the `models.py` file so that any models you define can be saved and loaded by name in different notebooks in this project directory. For example, by defining a CNN class called `Net` in `models.py`, you can then create that same architecture in this and other notebooks by simply importing the class and instantiating a model:\n",
    "```\n",
    "    from mo-8dels import Net\n",
    "    net = Net()\n",
    "```"
   ]
  },
  {
   "cell_type": "code",
   "execution_count": 1,
   "metadata": {},
   "outputs": [],
   "source": [
    "# load the data if you need to; if you have already loaded the data, you may comment this cell out\n",
    "# -- DO NOT CHANGE THIS CELL -- #\n",
    "#!mkdir ./data\n",
    "#!wget -P ./data/ https://s3.amazonaws.com/video.udacity-data.com/topher/2018/May/5aea1b91_train-test-data/train-test-data.zip\n",
    "#!unzip ./data/train-test-data.zip -d ./data"
   ]
  },
  {
   "cell_type": "markdown",
   "metadata": {},
   "source": [
    "<div class=\"alert alert-info\">**Note:** Workspaces preserve your available GPU time by closing the connection after 30 minutes of inactivity (including inactivity while training!). Use the code snippet below to keep your workspace alive during training.\n",
    "</div>"
   ]
  },
  {
   "cell_type": "code",
   "execution_count": 2,
   "metadata": {},
   "outputs": [],
   "source": [
    "# import requests\n",
    "# response = requests.request(\"GET\", \"http://metadata.google.internal/computeMetadata/v1/instance/attributes/keep_alive_token\", headers={\"Metadata-Flavor\":\"Google\"})\n",
    "# token = response.text\n",
    "# add the next line to run in each iteration of your main training loop\n",
    "# requests.request(\"POST\", \"https://nebula.udacity.com/api/v1/remote/keep-alive\", headers={'Authorization': \"STAR \" + token})\n",
    "# requests.request(\"POST\", \"https://nebula.udacity.com/api/v1/remote/keep-alive\", headers={'Authorization': \"STAR \" + token})"
   ]
  },
  {
   "cell_type": "code",
   "execution_count": 3,
   "metadata": {},
   "outputs": [],
   "source": [
    "# import the usual resources\n",
    "import matplotlib.pyplot as plt\n",
    "import numpy as np\n",
    "\n",
    "# watch for any changes in model.py, if it changes, re-load it automatically\n",
    "%load_ext autoreload\n",
    "%autoreload 2"
   ]
  },
  {
   "cell_type": "code",
   "execution_count": 4,
   "metadata": {
    "scrolled": false
   },
   "outputs": [
    {
     "name": "stdout",
     "output_type": "stream",
     "text": [
      "Net(\n",
      "  (conv1): Conv2d(1, 32, kernel_size=(5, 5), stride=(1, 1))\n",
      "  (conv2): Conv2d(32, 64, kernel_size=(5, 5), stride=(1, 1))\n",
      "  (conv3): Conv2d(64, 128, kernel_size=(5, 5), stride=(1, 1))\n",
      "  (conv4): Conv2d(128, 256, kernel_size=(5, 5), stride=(1, 1))\n",
      "  (pool): MaxPool2d(kernel_size=2, stride=2, padding=0, dilation=1, ceil_mode=False)\n",
      "  (dropout1): Dropout(p=0.1)\n",
      "  (dropout2): Dropout(p=0.2)\n",
      "  (dropout3): Dropout(p=0.3)\n",
      "  (dropout4): Dropout(p=0.4)\n",
      "  (dropout5): Dropout(p=0.5)\n",
      "  (dropout6): Dropout(p=0.6)\n",
      "  (fc1): Linear(in_features=25600, out_features=1024, bias=True)\n",
      "  (fc2): Linear(in_features=1024, out_features=1024, bias=True)\n",
      "  (fc3): Linear(in_features=1024, out_features=136, bias=True)\n",
      ")\n"
     ]
    }
   ],
   "source": [
    "## TODO: Define the Net in models.py\n",
    "\n",
    "import torch\n",
    "import torch.nn as nn\n",
    "import torch.nn.functional as F\n",
    "## TODO: Once you've define the network, you can instantiate it\n",
    "# one example conv layer has been provided for you\n",
    "from models import *\n",
    "# device = torch.device(\"cuda:0\" if torch.cuda.is_available() else \"cpu\")\n",
    "\n",
    "net = Net()\n",
    "net.cuda()\n",
    "print(net)"
   ]
  },
  {
   "cell_type": "markdown",
   "metadata": {
    "collapsed": true
   },
   "source": [
    "## Transform the dataset \n",
    "\n",
    "To prepare for training, create a transformed dataset of images and keypoints.\n",
    "\n",
    "### TODO: Define a data transform\n",
    "\n",
    "In PyTorch, a convolutional neural network expects a torch image of a consistent size as input. For efficient training, and so your model's loss does not blow up during training, it is also suggested that you normalize the input images and keypoints. The necessary transforms have been defined in `data_load.py` and you **do not** need to modify these; take a look at this file (you'll see the same transforms that were defined and applied in Notebook 1).\n",
    "\n",
    "To define the data transform below, use a [composition](http://pytorch.org/tutorials/beginner/data_loading_tutorial.html#compose-transforms) of:\n",
    "1. Rescaling and/or cropping the data, such that you are left with a square image (the suggested size is 224x224px)\n",
    "2. Normalizing the images and keypoints; turning each RGB image into a grayscale image with a color range of [0, 1] and transforming the given keypoints into a range of [-1, 1]\n",
    "3. Turning these images and keypoints into Tensors\n",
    "\n",
    "These transformations have been defined in `data_load.py`, but it's up to you to call them and create a `data_transform` below. **This transform will be applied to the training data and, later, the test data**. It will change how you go about displaying these images and keypoints, but these steps are essential for efficient training.\n",
    "\n",
    "As a note, should you want to perform data augmentation (which is optional in this project), and randomly rotate or shift these images, a square image size will be useful; rotating a 224x224 image by 90 degrees will result in the same shape of output."
   ]
  },
  {
   "cell_type": "code",
   "execution_count": 5,
   "metadata": {},
   "outputs": [
    {
     "name": "stderr",
     "output_type": "stream",
     "text": [
      "<ipython-input-5-69d813fcabcc>:12: SyntaxWarning: assertion is always true, perhaps remove parentheses?\n",
      "  assert(data_transform is not None, \"Define a data_transform\")\n"
     ]
    }
   ],
   "source": [
    "from torch.utils.data import Dataset, DataLoader\n",
    "from torchvision import transforms, utils\n",
    "\n",
    "# the dataset we created in Notebook 1 is copied in the helper file `data_load.py`\n",
    "from data_load import FacialKeypointsDataset\n",
    "# the transforms we defined in Notebook 1 are in the helper file `data_load.py`\n",
    "from data_load import Rescale, RandomCrop, Normalize, ToTensor\n",
    "\n",
    "# Perform data augmentation on train dataset by first scaling and then random cropping\n",
    "data_transform = transforms.Compose([Rescale(250), \\\n",
    "                                           RandomCrop(224), \\\n",
    "                                           Normalize(), \\\n",
    "                                           ToTensor()])\n",
    "\n",
    "assert(data_transform is not None, \"Define a data_transform\")"
   ]
  },
  {
   "cell_type": "code",
   "execution_count": 6,
   "metadata": {},
   "outputs": [
    {
     "name": "stdout",
     "output_type": "stream",
     "text": [
      "Number of images:  3462\n",
      "0 torch.Size([1, 224, 224]) torch.Size([68, 2])\n",
      "1 torch.Size([1, 224, 224]) torch.Size([68, 2])\n",
      "2 torch.Size([1, 224, 224]) torch.Size([68, 2])\n",
      "3 torch.Size([1, 224, 224]) torch.Size([68, 2])\n"
     ]
    },
    {
     "name": "stderr",
     "output_type": "stream",
     "text": [
      "/home/jair/CVND-udacity/P1_Facial_Keypoints/data_load.py:39: FutureWarning: Method .as_matrix will be removed in a future version. Use .values instead.\n",
      "  key_pts = self.key_pts_frame.iloc[idx, 1:].as_matrix()\n"
     ]
    }
   ],
   "source": [
    "transformed_dataset = FacialKeypointsDataset(csv_file='./data/training_frames_keypoints.csv',\n",
    "                                             root_dir='./data/training/',\n",
    "                                             transform=data_transform)\n",
    "\n",
    "print('Number of images: ', len(transformed_dataset))\n",
    "\n",
    "# iterate through the transformed dataset and print some stats about the first few samples\n",
    "for i in range(4):\n",
    "    sample = transformed_dataset[i]\n",
    "    print(i, sample['image'].size(), sample['keypoints'].size())"
   ]
  },
  {
   "cell_type": "markdown",
   "metadata": {},
   "source": [
    "## Batching and loading data\n",
    "\n",
    "Next, having defined the transformed dataset, we can use PyTorch's DataLoader class to load the training data in batches of whatever size as well as to shuffle the data for training the model. You can read more about the parameters of the DataLoader, in [this documentation](http://pytorch.org/docs/master/data.html).\n",
    "\n",
    "#### Batch size\n",
    "Decide on a good batch size for training your model. Try both small and large batch sizes and note how the loss decreases as the model trains.\n",
    "\n",
    "**Note for Windows users**: Please change the `num_workers` to 0 or you may face some issues with your DataLoader failing."
   ]
  },
  {
   "cell_type": "code",
   "execution_count": 7,
   "metadata": {},
   "outputs": [],
   "source": [
    "# load training data in batches\n",
    "batch_size = 10\n",
    "\n",
    "train_loader = DataLoader(transformed_dataset, \n",
    "                          batch_size=batch_size,\n",
    "                          shuffle=True, \n",
    "                          num_workers=4)\n"
   ]
  },
  {
   "cell_type": "markdown",
   "metadata": {},
   "source": [
    "## Before training\n",
    "\n",
    "Take a look at how this model performs before it trains. You should see that the keypoints it predicts start off in one spot and don't match the keypoints on a face at all! It's interesting to visualize this behavior so that you can compare it to the model after training and see how the model has improved.\n",
    "\n",
    "#### Load in the test dataset\n",
    "\n",
    "The test dataset is one that this model has *not* seen before, meaning it has not trained with these images. We'll load in this test data and before and after training, see how your model performs on this set!\n",
    "\n",
    "To visualize this test data, we have to go through some un-transformation steps to turn our images into python images from tensors and to turn our keypoints back into a recognizable range. "
   ]
  },
  {
   "cell_type": "code",
   "execution_count": 8,
   "metadata": {},
   "outputs": [],
   "source": [
    "test_dataset = FacialKeypointsDataset(csv_file='./data/test_frames_keypoints.csv',\n",
    "                                             root_dir='./data/test/',\n",
    "                                             transform=data_transform)"
   ]
  },
  {
   "cell_type": "code",
   "execution_count": 9,
   "metadata": {},
   "outputs": [],
   "source": [
    "# load test data in batches\n",
    "batch_size = 10\n",
    "\n",
    "test_loader = DataLoader(test_dataset, \n",
    "                          batch_size=batch_size,\n",
    "                          shuffle=True, \n",
    "                          num_workers=4)"
   ]
  },
  {
   "cell_type": "markdown",
   "metadata": {},
   "source": [
    "## Apply the model on a test sample\n",
    "\n",
    "To test the model on a test sample of data, you have to follow these steps:\n",
    "1. Extract the image and ground truth keypoints from a sample\n",
    "2. Wrap the image in a Variable, so that the net can process it as input and track how it changes as the image moves through the network.\n",
    "3. Make sure the image is a FloatTensor, which the model expects.\n",
    "4. Forward pass the image through the net to get the predicted, output keypoints.\n",
    "\n",
    "This function test how the network performs on the first batch of test data. It returns the images, the transformed images, the predicted keypoints (produced by the model), and the ground truth keypoints."
   ]
  },
  {
   "cell_type": "code",
   "execution_count": 10,
   "metadata": {},
   "outputs": [],
   "source": [
    "# test the model on a batch of test images\n",
    "\n",
    "def net_sample_output():\n",
    "    \n",
    "    # iterate through the test dataset\n",
    "    for i, sample in enumerate(test_loader):\n",
    "        # get sample data: images and ground truth keypoints\n",
    "        images = sample['image']\n",
    "        key_pts = sample['keypoints']\n",
    "        \n",
    "#         print(\"key_pts.shape:\", key_pts.shape)\n",
    "        # key_pts do not need to be wrapped until they are used for training\n",
    "\n",
    "        # convert images to FloatTensors\n",
    "        images = images.type(torch.cuda.FloatTensor)\n",
    "\n",
    "        # forward pass to get net output\n",
    "        output_pts = net(images)\n",
    "#     output_pts = net.forward(Variable(roi, volatile=True))\n",
    "#         print(\"output_pts.size():\", output_pts.size())\n",
    "        # reshape to batch_size x 68 x 2 pts\n",
    "        output_pts = output_pts.view(output_pts.size()[0], 68, -1)\n",
    "    \n",
    "        # break after first image is tested\n",
    "        if i == 0:\n",
    "            return images, output_pts, key_pts\n",
    "            "
   ]
  },
  {
   "cell_type": "markdown",
   "metadata": {},
   "source": [
    "#### Debugging tips\n",
    "\n",
    "If you get a size or dimension error here, make sure that your network outputs the expected number of keypoints! Or if you get a Tensor type error, look into changing the above code that casts the data into float types: `images = images.type(torch.FloatTensor)`."
   ]
  },
  {
   "cell_type": "code",
   "execution_count": 11,
   "metadata": {},
   "outputs": [
    {
     "name": "stderr",
     "output_type": "stream",
     "text": [
      "/home/jair/CVND-udacity/P1_Facial_Keypoints/data_load.py:39: FutureWarning: Method .as_matrix will be removed in a future version. Use .values instead.\n",
      "  key_pts = self.key_pts_frame.iloc[idx, 1:].as_matrix()\n",
      "/home/jair/CVND-udacity/P1_Facial_Keypoints/data_load.py:39: FutureWarning: Method .as_matrix will be removed in a future version. Use .values instead.\n",
      "  key_pts = self.key_pts_frame.iloc[idx, 1:].as_matrix()\n",
      "/home/jair/CVND-udacity/P1_Facial_Keypoints/data_load.py:39: FutureWarning: Method .as_matrix will be removed in a future version. Use .values instead.\n",
      "  key_pts = self.key_pts_frame.iloc[idx, 1:].as_matrix()\n",
      "/home/jair/CVND-udacity/P1_Facial_Keypoints/data_load.py:39: FutureWarning: Method .as_matrix will be removed in a future version. Use .values instead.\n",
      "  key_pts = self.key_pts_frame.iloc[idx, 1:].as_matrix()\n"
     ]
    },
    {
     "name": "stdout",
     "output_type": "stream",
     "text": [
      "torch.Size([10, 1, 224, 224])\n",
      "torch.Size([10, 68, 2])\n",
      "torch.Size([10, 68, 2])\n"
     ]
    }
   ],
   "source": [
    "# call the above function\n",
    "# returns: test images, test predicted keypoints, test ground truth keypoints\n",
    "test_images, test_outputs, gt_pts = net_sample_output()\n",
    "\n",
    "# print out the dimensions of the data to see if they make sense\n",
    "print(test_images.data.size())\n",
    "print(test_outputs.data.size())\n",
    "print(gt_pts.size())"
   ]
  },
  {
   "cell_type": "code",
   "execution_count": 12,
   "metadata": {
    "scrolled": true
   },
   "outputs": [
    {
     "data": {
      "text/plain": [
       "tensor([[[ 0.4347,  0.7780],\n",
       "         [ 0.3475,  1.1047],\n",
       "         [ 0.2604,  1.4096],\n",
       "         ...,\n",
       "         [ 0.9795,  2.0629],\n",
       "         [ 0.8270,  1.9975],\n",
       "         [ 0.7398,  1.9758]],\n",
       "\n",
       "        [[-0.4537,  1.9954],\n",
       "         [-0.4537,  2.2847],\n",
       "         [-0.3669,  2.5161],\n",
       "         ...,\n",
       "         [ 1.3403,  3.0657],\n",
       "         [ 1.2535,  3.0657],\n",
       "         [ 1.1956,  3.0657]],\n",
       "\n",
       "        [[-0.0482,  1.1238],\n",
       "         [ 0.0116,  1.3034],\n",
       "         [ 0.0116,  1.4830],\n",
       "         ...,\n",
       "         [ 1.0875,  1.8123],\n",
       "         [ 1.0277,  1.8123],\n",
       "         [ 0.9978,  1.7524]],\n",
       "\n",
       "        ...,\n",
       "\n",
       "        [[ 0.1527,  0.5199],\n",
       "         [ 0.0870,  0.7602],\n",
       "         [ 0.1527,  1.0660],\n",
       "         ...,\n",
       "         [ 1.1374,  1.4811],\n",
       "         [ 1.0499,  1.4811],\n",
       "         [ 0.8967,  1.4811]],\n",
       "\n",
       "        [[ 0.3414,  0.3130],\n",
       "         [ 0.2755,  0.6422],\n",
       "         [ 0.2755,  0.9275],\n",
       "         ...,\n",
       "         [ 1.4182,  1.6078],\n",
       "         [ 1.3523,  1.6078],\n",
       "         [ 1.2205,  1.6078]],\n",
       "\n",
       "        [[-0.3374,  0.8558],\n",
       "         [-0.3374,  1.1346],\n",
       "         [-0.2104,  1.3880],\n",
       "         ...,\n",
       "         [ 1.2886,  1.7935],\n",
       "         [ 1.2124,  1.7935],\n",
       "         [ 1.0854,  1.7935]]], dtype=torch.float64)"
      ]
     },
     "execution_count": 12,
     "metadata": {},
     "output_type": "execute_result"
    }
   ],
   "source": [
    "gt_pts"
   ]
  },
  {
   "cell_type": "code",
   "execution_count": 13,
   "metadata": {
    "scrolled": true
   },
   "outputs": [
    {
     "data": {
      "text/plain": [
       "tensor([[[-0.0048, -0.0232],\n",
       "         [-0.0003,  0.0125],\n",
       "         [ 0.0274, -0.0067],\n",
       "         ...,\n",
       "         [-0.0334, -0.0247],\n",
       "         [-0.0319, -0.0224],\n",
       "         [ 0.0173, -0.0329]],\n",
       "\n",
       "        [[-0.0045, -0.0233],\n",
       "         [-0.0006,  0.0129],\n",
       "         [ 0.0280, -0.0068],\n",
       "         ...,\n",
       "         [-0.0338, -0.0237],\n",
       "         [-0.0321, -0.0222],\n",
       "         [ 0.0169, -0.0334]],\n",
       "\n",
       "        [[-0.0047, -0.0231],\n",
       "         [-0.0001,  0.0132],\n",
       "         [ 0.0277, -0.0068],\n",
       "         ...,\n",
       "         [-0.0342, -0.0236],\n",
       "         [-0.0317, -0.0220],\n",
       "         [ 0.0170, -0.0337]],\n",
       "\n",
       "        ...,\n",
       "\n",
       "        [[-0.0044, -0.0231],\n",
       "         [-0.0005,  0.0125],\n",
       "         [ 0.0283, -0.0071],\n",
       "         ...,\n",
       "         [-0.0340, -0.0242],\n",
       "         [-0.0315, -0.0221],\n",
       "         [ 0.0172, -0.0338]],\n",
       "\n",
       "        [[-0.0041, -0.0235],\n",
       "         [ 0.0013,  0.0129],\n",
       "         [ 0.0289, -0.0063],\n",
       "         ...,\n",
       "         [-0.0341, -0.0216],\n",
       "         [-0.0323, -0.0198],\n",
       "         [ 0.0180, -0.0335]],\n",
       "\n",
       "        [[-0.0054, -0.0240],\n",
       "         [-0.0014,  0.0135],\n",
       "         [ 0.0279, -0.0073],\n",
       "         ...,\n",
       "         [-0.0340, -0.0227],\n",
       "         [-0.0316, -0.0228],\n",
       "         [ 0.0180, -0.0333]]], device='cuda:0')"
      ]
     },
     "execution_count": 13,
     "metadata": {},
     "output_type": "execute_result"
    }
   ],
   "source": [
    "test_outputs.data"
   ]
  },
  {
   "cell_type": "markdown",
   "metadata": {},
   "source": [
    "## Visualize the predicted keypoints\n",
    "\n",
    "Once we've had the model produce some predicted output keypoints, we can visualize these points in a way that's similar to how we've displayed this data before, only this time, we have to \"un-transform\" the image/keypoint data to display it.\n",
    "\n",
    "Note that I've defined a *new* function, `show_all_keypoints` that displays a grayscale image, its predicted keypoints and its ground truth keypoints (if provided)."
   ]
  },
  {
   "cell_type": "code",
   "execution_count": 14,
   "metadata": {},
   "outputs": [],
   "source": [
    "def show_all_keypoints(image, predicted_key_pts, gt_pts=None):\n",
    "    \"\"\"Show image with predicted keypoints\"\"\"\n",
    "    # image is grayscale\n",
    "    plt.imshow(image, cmap='gray')\n",
    "    plt.scatter(predicted_key_pts[:, 0], predicted_key_pts[:, 1], s=20, marker='.', c='m')\n",
    "    # plot ground truth points as green pts\n",
    "    if gt_pts is not None:\n",
    "        plt.scatter(gt_pts[:, 0], gt_pts[:, 1], s=20, marker='.', c='g')\n"
   ]
  },
  {
   "cell_type": "markdown",
   "metadata": {},
   "source": [
    "#### Un-transformation\n",
    "\n",
    "Next, you'll see a helper function. `visualize_output` that takes in a batch of images, predicted keypoints, and ground truth keypoints and displays a set of those images and their true/predicted keypoints.\n",
    "\n",
    "This function's main role is to take batches of image and keypoint data (the input and output of your CNN), and transform them into numpy images and un-normalized keypoints (x, y) for normal display. The un-transformation process turns keypoints and images into numpy arrays from Tensors *and* it undoes the keypoint normalization done in the Normalize() transform; it's assumed that you applied these transformations when you loaded your test data."
   ]
  },
  {
   "cell_type": "code",
   "execution_count": 15,
   "metadata": {
    "scrolled": true
   },
   "outputs": [
    {
     "data": {
      "image/png": "[encoded data removed]",
      "text/plain": [
       "<Figure size 1440x720 with 1 Axes>"
      ]
     },
     "metadata": {},
     "output_type": "display_data"
    },
    {
     "data": {
      "image/png": "[encoded data removed]",
      "text/plain": [
       "<Figure size 1440x720 with 1 Axes>"
      ]
     },
     "metadata": {},
     "output_type": "display_data"
    },
    {
     "data": {
      "image/png": "[encoded data removed]",
      "text/plain": [
       "<Figure size 1440x720 with 1 Axes>"
      ]
     },
     "metadata": {},
     "output_type": "display_data"
    },
    {
     "data": {
      "image/png": "[encoded data removed]",
      "text/plain": [
       "<Figure size 1440x720 with 1 Axes>"
      ]
     },
     "metadata": {},
     "output_type": "display_data"
    },
    {
     "data": {
      "image/png": "[encoded data removed]",
      "text/plain": [
       "<Figure size 1440x720 with 1 Axes>"
      ]
     },
     "metadata": {},
     "output_type": "display_data"
    },
    {
     "data": {
      "image/png": "[encoded data removed]",
      "text/plain": [
       "<Figure size 1440x720 with 1 Axes>"
      ]
     },
     "metadata": {},
     "output_type": "display_data"
    },
    {
     "data": {
      "image/png": "[encoded data removed]",
      "text/plain": [
       "<Figure size 1440x720 with 1 Axes>"
      ]
     },
     "metadata": {},
     "output_type": "display_data"
    },
    {
     "data": {
      "image/png": "[encoded data removed]",
      "text/plain": [
       "<Figure size 1440x720 with 1 Axes>"
      ]
     },
     "metadata": {},
     "output_type": "display_data"
    },
    {
     "data": {
      "image/png": "[encoded data removed]",
      "text/plain": [
       "<Figure size 1440x720 with 1 Axes>"
      ]
     },
     "metadata": {},
     "output_type": "display_data"
    },
    {
     "data": {
      "image/png": "[encoded data removed]",
      "text/plain": [
       "<Figure size 1440x720 with 1 Axes>"
      ]
     },
     "metadata": {},
     "output_type": "display_data"
    }
   ],
   "source": [
    "# visualize the output\n",
    "# by default this shows a batch of 10 images\n",
    "def visualize_output(test_images, test_outputs, gt_pts=None, batch_size=10):\n",
    "    \n",
    "#     net.eval()\n",
    "    \n",
    "    for i in range(batch_size):\n",
    "        plt.figure(figsize=(20,10))\n",
    "        ax = plt.subplot(1, batch_size, i+1)\n",
    "\n",
    "        # un-transform the image data\n",
    "        image = test_images[i].data   # get the image from it's Variable wrapper\n",
    "        image = image.cpu().numpy()   # convert to numpy array from a Tensor\n",
    "        image = np.transpose(image, (1, 2, 0))   # transpose to go from torch to numpy image\n",
    "\n",
    "        # un-transform the predicted key_pts data\n",
    "        predicted_key_pts = test_outputs[i].data\n",
    "        predicted_key_pts = predicted_key_pts.cpu().numpy()\n",
    "                \n",
    "        # undo normalization of keypoints  \n",
    "        predicted_key_pts = predicted_key_pts*50.0+100\n",
    "#         predicted_key_pts = (predicted_key_pts * 48.0) + 48\n",
    "    \n",
    "        # plot ground truth points for comparison, if they exist\n",
    "        ground_truth_pts = None\n",
    "        if gt_pts is not None:\n",
    "            ground_truth_pts = gt_pts[i]         \n",
    "            ground_truth_pts = ground_truth_pts*50.0+100\n",
    "#             ground_truth_pts = (ground_truth_pts * 48.0) + 48\n",
    "    \n",
    "        # call show_all_keypoints\n",
    "        show_all_keypoints(np.squeeze(image), predicted_key_pts, ground_truth_pts)\n",
    "        \n",
    "        plt.axis('off')\n",
    "    \n",
    "    \n",
    "    plt.show()\n",
    "    \n",
    "# call it\n",
    "# visualize_output(test_images, test_outputs, gt_pts)\n",
    "visualize_output(test_images, test_outputs, gt_pts)"
   ]
  },
  {
   "cell_type": "markdown",
   "metadata": {},
   "source": [
    "## Training\n",
    "\n",
    "#### Loss function\n",
    "Training a network to predict keypoints is different than training a network to predict a class; instead of outputting a distribution of classes and using cross entropy loss, you may want to choose a loss function that is suited for regression, which directly compares a predicted value and target value. Read about the various kinds of loss functions (like MSE or L1/SmoothL1 loss) in [this documentation](http://pytorch.org/docs/master/_modules/torch/nn/modules/loss.html).\n",
    "\n",
    "### TODO: Define the loss and optimization\n",
    "\n",
    "Next, you'll define how the model will train by deciding on the loss function and optimizer.\n",
    "\n",
    "---"
   ]
  },
  {
   "cell_type": "code",
   "execution_count": 16,
   "metadata": {},
   "outputs": [],
   "source": [
    "import torch.optim as optim\n",
    "\n",
    "criterion = nn.MSELoss()\n",
    "# criterion = nn.SmoothL1Loss()\n",
    "\n",
    "optimizer = optim.Adam(net.parameters(), lr=0.001)\n"
   ]
  },
  {
   "cell_type": "markdown",
   "metadata": {},
   "source": [
    "## Training and Initial Observation\n",
    "\n",
    "Now, you'll train on your batched training data from `train_loader` for a number of epochs. \n",
    "\n",
    "To quickly observe how your model is training and decide on whether or not you should modify it's structure or hyperparameters, you're encouraged to start off with just one or two epochs at first. As you train, note how your the model's loss behaves over time: does it decrease quickly at first and then slow down? Does it take a while to decrease in the first place? What happens if you change the batch size of your training data or modify your loss function? etc. \n",
    "\n",
    "Use these initial observations to make changes to your model and decide on the best architecture before you train for many epochs and create a final model."
   ]
  },
  {
   "cell_type": "code",
   "execution_count": 17,
   "metadata": {},
   "outputs": [],
   "source": [
    "def train_net(n_epochs):\n",
    "\n",
    "    # Model in training mode, dropout is on\n",
    "    net.train()\n",
    "\n",
    "    for epoch in range(n_epochs):  # loop over the dataset multiple times\n",
    "        \n",
    "        \n",
    "        running_loss = 0.0\n",
    "\n",
    "        # train on batches of data, assumes you already have train_loader\n",
    "        for batch_i, data in enumerate(train_loader):\n",
    "            \n",
    "            # get the input images and their corresponding labels\n",
    "            images = data['image']\n",
    "            key_pts = data['keypoints']\n",
    "\n",
    "            # flatten pts\n",
    "            key_pts = key_pts.view(key_pts.size(0), -1)\n",
    "            \n",
    "            # wrap them in a torch Variable\n",
    "#             images, key_pts = Variable(images), Variable(key_pts)\n",
    "\n",
    "            # convert variables to floats for regression loss\n",
    "            key_pts = key_pts.type(torch.cuda.FloatTensor)\n",
    "            images = images.type(torch.cuda.FloatTensor)\n",
    "\n",
    "            # forward pass to get outputs\n",
    "            output_pts = net(images)\n",
    "\n",
    "            # calculate the loss between predicted and target keypoints\n",
    "            loss = criterion(output_pts, key_pts)\n",
    "\n",
    "            # zero the parameter (weight) gradients\n",
    "            optimizer.zero_grad()\n",
    "            \n",
    "            # backward pass to calculate the weight gradients\n",
    "            loss.backward()\n",
    "\n",
    "            # update the weights\n",
    "            optimizer.step()\n",
    "\n",
    "            # print loss statistics\n",
    "            running_loss += loss.item()\n",
    "#             if batch_i % 10 == 9:    # print every 10 batches\n",
    "#                 print('Epoch: {}, Batch: {}, Avg. Loss: {}'.format(epoch + 1, batch_i+1, running_loss/10)) \n",
    "#                 running_loss = 0.0\n",
    "            if batch_i % 40 == 39:    # print every 40 batches\n",
    "                print('Epoch: {}, Batch: {}, Avg. Loss: {}'.format(epoch + 1, batch_i + 1, running_loss / 40)) \n",
    "                running_loss = 0.0\n",
    "\n",
    "    print('Finished Training')\n"
   ]
  },
  {
   "cell_type": "code",
   "execution_count": 18,
   "metadata": {
    "scrolled": true
   },
   "outputs": [
    {
     "name": "stderr",
     "output_type": "stream",
     "text": [
      "/home/jair/CVND-udacity/P1_Facial_Keypoints/data_load.py:39: FutureWarning: Method .as_matrix will be removed in a future version. Use .values instead.\n",
      "  key_pts = self.key_pts_frame.iloc[idx, 1:].as_matrix()\n",
      "/home/jair/CVND-udacity/P1_Facial_Keypoints/data_load.py:39: FutureWarning: Method .as_matrix will be removed in a future version. Use .values instead.\n",
      "  key_pts = self.key_pts_frame.iloc[idx, 1:].as_matrix()\n",
      "/home/jair/CVND-udacity/P1_Facial_Keypoints/data_load.py:39: FutureWarning: Method .as_matrix will be removed in a future version. Use .values instead.\n",
      "  key_pts = self.key_pts_frame.iloc[idx, 1:].as_matrix()\n",
      "/home/jair/CVND-udacity/P1_Facial_Keypoints/data_load.py:39: FutureWarning: Method .as_matrix will be removed in a future version. Use .values instead.\n",
      "  key_pts = self.key_pts_frame.iloc[idx, 1:].as_matrix()\n"
     ]
    },
    {
     "name": "stdout",
     "output_type": "stream",
     "text": [
      "Epoch: 1, Batch: 40, Avg. Loss: 5.294262456521392\n",
      "Epoch: 1, Batch: 80, Avg. Loss: 0.20735276257619262\n",
      "Epoch: 1, Batch: 120, Avg. Loss: 0.2452201724052429\n",
      "Epoch: 1, Batch: 160, Avg. Loss: 0.2609957348555326\n",
      "Epoch: 1, Batch: 200, Avg. Loss: 0.2460587291046977\n",
      "Epoch: 1, Batch: 240, Avg. Loss: 0.21414439603686333\n",
      "Epoch: 1, Batch: 280, Avg. Loss: 0.22146204877644776\n",
      "Epoch: 1, Batch: 320, Avg. Loss: 0.19808470979332923\n"
     ]
    },
    {
     "name": "stderr",
     "output_type": "stream",
     "text": [
      "/home/jair/CVND-udacity/P1_Facial_Keypoints/data_load.py:39: FutureWarning: Method .as_matrix will be removed in a future version. Use .values instead.\n",
      "  key_pts = self.key_pts_frame.iloc[idx, 1:].as_matrix()\n",
      "/home/jair/CVND-udacity/P1_Facial_Keypoints/data_load.py:39: FutureWarning: Method .as_matrix will be removed in a future version. Use .values instead.\n",
      "  key_pts = self.key_pts_frame.iloc[idx, 1:].as_matrix()\n",
      "/home/jair/CVND-udacity/P1_Facial_Keypoints/data_load.py:39: FutureWarning: Method .as_matrix will be removed in a future version. Use .values instead.\n",
      "  key_pts = self.key_pts_frame.iloc[idx, 1:].as_matrix()\n",
      "/home/jair/CVND-udacity/P1_Facial_Keypoints/data_load.py:39: FutureWarning: Method .as_matrix will be removed in a future version. Use .values instead.\n",
      "  key_pts = self.key_pts_frame.iloc[idx, 1:].as_matrix()\n"
     ]
    },
    {
     "name": "stdout",
     "output_type": "stream",
     "text": [
      "Epoch: 2, Batch: 40, Avg. Loss: 0.2012707870453596\n",
      "Epoch: 2, Batch: 80, Avg. Loss: 0.20846651289612056\n",
      "Epoch: 2, Batch: 120, Avg. Loss: 0.26136683505028485\n",
      "Epoch: 2, Batch: 160, Avg. Loss: 0.18496589530259372\n",
      "Epoch: 2, Batch: 200, Avg. Loss: 0.17988931238651276\n",
      "Epoch: 2, Batch: 240, Avg. Loss: 0.21452032215893269\n",
      "Epoch: 2, Batch: 280, Avg. Loss: 0.26038678996264936\n",
      "Epoch: 2, Batch: 320, Avg. Loss: 0.20235800351947547\n"
     ]
    },
    {
     "name": "stderr",
     "output_type": "stream",
     "text": [
      "/home/jair/CVND-udacity/P1_Facial_Keypoints/data_load.py:39: FutureWarning: Method .as_matrix will be removed in a future version. Use .values instead.\n",
      "  key_pts = self.key_pts_frame.iloc[idx, 1:].as_matrix()\n",
      "/home/jair/CVND-udacity/P1_Facial_Keypoints/data_load.py:39: FutureWarning: Method .as_matrix will be removed in a future version. Use .values instead.\n",
      "  key_pts = self.key_pts_frame.iloc[idx, 1:].as_matrix()\n",
      "/home/jair/CVND-udacity/P1_Facial_Keypoints/data_load.py:39: FutureWarning: Method .as_matrix will be removed in a future version. Use .values instead.\n",
      "  key_pts = self.key_pts_frame.iloc[idx, 1:].as_matrix()\n",
      "/home/jair/CVND-udacity/P1_Facial_Keypoints/data_load.py:39: FutureWarning: Method .as_matrix will be removed in a future version. Use .values instead.\n",
      "  key_pts = self.key_pts_frame.iloc[idx, 1:].as_matrix()\n"
     ]
    },
    {
     "name": "stdout",
     "output_type": "stream",
     "text": [
      "Epoch: 3, Batch: 40, Avg. Loss: 0.19663085844367742\n",
      "Epoch: 3, Batch: 80, Avg. Loss: 0.1635233199223876\n",
      "Epoch: 3, Batch: 120, Avg. Loss: 0.2032170096412301\n",
      "Epoch: 3, Batch: 160, Avg. Loss: 0.17963450103998185\n",
      "Epoch: 3, Batch: 200, Avg. Loss: 0.16263245176523924\n",
      "Epoch: 3, Batch: 240, Avg. Loss: 0.1987252574414015\n",
      "Epoch: 3, Batch: 280, Avg. Loss: 0.1787678520195186\n",
      "Epoch: 3, Batch: 320, Avg. Loss: 0.23281457610428333\n"
     ]
    },
    {
     "name": "stderr",
     "output_type": "stream",
     "text": [
      "/home/jair/CVND-udacity/P1_Facial_Keypoints/data_load.py:39: FutureWarning: Method .as_matrix will be removed in a future version. Use .values instead.\n",
      "  key_pts = self.key_pts_frame.iloc[idx, 1:].as_matrix()\n",
      "/home/jair/CVND-udacity/P1_Facial_Keypoints/data_load.py:39: FutureWarning: Method .as_matrix will be removed in a future version. Use .values instead.\n",
      "  key_pts = self.key_pts_frame.iloc[idx, 1:].as_matrix()\n",
      "/home/jair/CVND-udacity/P1_Facial_Keypoints/data_load.py:39: FutureWarning: Method .as_matrix will be removed in a future version. Use .values instead.\n",
      "  key_pts = self.key_pts_frame.iloc[idx, 1:].as_matrix()\n",
      "/home/jair/CVND-udacity/P1_Facial_Keypoints/data_load.py:39: FutureWarning: Method .as_matrix will be removed in a future version. Use .values instead.\n",
      "  key_pts = self.key_pts_frame.iloc[idx, 1:].as_matrix()\n"
     ]
    },
    {
     "name": "stdout",
     "output_type": "stream",
     "text": [
      "Epoch: 4, Batch: 40, Avg. Loss: 0.19040544256567954\n",
      "Epoch: 4, Batch: 80, Avg. Loss: 0.19484371449798346\n",
      "Epoch: 4, Batch: 120, Avg. Loss: 0.19444869589060546\n",
      "Epoch: 4, Batch: 160, Avg. Loss: 0.15540202222764493\n",
      "Epoch: 4, Batch: 200, Avg. Loss: 0.1655231613665819\n",
      "Epoch: 4, Batch: 240, Avg. Loss: 0.18003256376832724\n",
      "Epoch: 4, Batch: 280, Avg. Loss: 0.15221961345523596\n",
      "Epoch: 4, Batch: 320, Avg. Loss: 0.1621115510351956\n"
     ]
    },
    {
     "name": "stderr",
     "output_type": "stream",
     "text": [
      "/home/jair/CVND-udacity/P1_Facial_Keypoints/data_load.py:39: FutureWarning: Method .as_matrix will be removed in a future version. Use .values instead.\n",
      "  key_pts = self.key_pts_frame.iloc[idx, 1:].as_matrix()\n",
      "/home/jair/CVND-udacity/P1_Facial_Keypoints/data_load.py:39: FutureWarning: Method .as_matrix will be removed in a future version. Use .values instead.\n",
      "  key_pts = self.key_pts_frame.iloc[idx, 1:].as_matrix()\n",
      "/home/jair/CVND-udacity/P1_Facial_Keypoints/data_load.py:39: FutureWarning: Method .as_matrix will be removed in a future version. Use .values instead.\n",
      "  key_pts = self.key_pts_frame.iloc[idx, 1:].as_matrix()\n",
      "/home/jair/CVND-udacity/P1_Facial_Keypoints/data_load.py:39: FutureWarning: Method .as_matrix will be removed in a future version. Use .values instead.\n",
      "  key_pts = self.key_pts_frame.iloc[idx, 1:].as_matrix()\n"
     ]
    },
    {
     "name": "stdout",
     "output_type": "stream",
     "text": [
      "Epoch: 5, Batch: 40, Avg. Loss: 0.16446364130824803\n",
      "Epoch: 5, Batch: 80, Avg. Loss: 0.16781300827860832\n",
      "Epoch: 5, Batch: 120, Avg. Loss: 0.18644312340766192\n",
      "Epoch: 5, Batch: 160, Avg. Loss: 0.23638479579240085\n",
      "Epoch: 5, Batch: 200, Avg. Loss: 0.1623537689447403\n",
      "Epoch: 5, Batch: 240, Avg. Loss: 0.1720578705891967\n",
      "Epoch: 5, Batch: 280, Avg. Loss: 0.15772264543920755\n",
      "Epoch: 5, Batch: 320, Avg. Loss: 0.16876657474786044\n"
     ]
    },
    {
     "name": "stderr",
     "output_type": "stream",
     "text": [
      "/home/jair/CVND-udacity/P1_Facial_Keypoints/data_load.py:39: FutureWarning: Method .as_matrix will be removed in a future version. Use .values instead.\n",
      "  key_pts = self.key_pts_frame.iloc[idx, 1:].as_matrix()\n",
      "/home/jair/CVND-udacity/P1_Facial_Keypoints/data_load.py:39: FutureWarning: Method .as_matrix will be removed in a future version. Use .values instead.\n",
      "  key_pts = self.key_pts_frame.iloc[idx, 1:].as_matrix()\n",
      "/home/jair/CVND-udacity/P1_Facial_Keypoints/data_load.py:39: FutureWarning: Method .as_matrix will be removed in a future version. Use .values instead.\n",
      "  key_pts = self.key_pts_frame.iloc[idx, 1:].as_matrix()\n",
      "/home/jair/CVND-udacity/P1_Facial_Keypoints/data_load.py:39: FutureWarning: Method .as_matrix will be removed in a future version. Use .values instead.\n",
      "  key_pts = self.key_pts_frame.iloc[idx, 1:].as_matrix()\n"
     ]
    },
    {
     "name": "stdout",
     "output_type": "stream",
     "text": [
      "Epoch: 6, Batch: 40, Avg. Loss: 0.18201242983341218\n",
      "Epoch: 6, Batch: 80, Avg. Loss: 0.18141261553391813\n",
      "Epoch: 6, Batch: 120, Avg. Loss: 0.16995903365314008\n",
      "Epoch: 6, Batch: 160, Avg. Loss: 0.16376934172585605\n",
      "Epoch: 6, Batch: 200, Avg. Loss: 0.1415270189754665\n",
      "Epoch: 6, Batch: 240, Avg. Loss: 0.14344432521611453\n",
      "Epoch: 6, Batch: 280, Avg. Loss: 0.10567029723897577\n",
      "Epoch: 6, Batch: 320, Avg. Loss: 0.12315549273043871\n"
     ]
    },
    {
     "name": "stderr",
     "output_type": "stream",
     "text": [
      "/home/jair/CVND-udacity/P1_Facial_Keypoints/data_load.py:39: FutureWarning: Method .as_matrix will be removed in a future version. Use .values instead.\n",
      "  key_pts = self.key_pts_frame.iloc[idx, 1:].as_matrix()\n",
      "/home/jair/CVND-udacity/P1_Facial_Keypoints/data_load.py:39: FutureWarning: Method .as_matrix will be removed in a future version. Use .values instead.\n",
      "  key_pts = self.key_pts_frame.iloc[idx, 1:].as_matrix()\n",
      "/home/jair/CVND-udacity/P1_Facial_Keypoints/data_load.py:39: FutureWarning: Method .as_matrix will be removed in a future version. Use .values instead.\n",
      "  key_pts = self.key_pts_frame.iloc[idx, 1:].as_matrix()\n",
      "/home/jair/CVND-udacity/P1_Facial_Keypoints/data_load.py:39: FutureWarning: Method .as_matrix will be removed in a future version. Use .values instead.\n",
      "  key_pts = self.key_pts_frame.iloc[idx, 1:].as_matrix()\n"
     ]
    },
    {
     "name": "stdout",
     "output_type": "stream",
     "text": [
      "Epoch: 7, Batch: 40, Avg. Loss: 0.11433896841481328\n",
      "Epoch: 7, Batch: 80, Avg. Loss: 0.08212877903133631\n",
      "Epoch: 7, Batch: 120, Avg. Loss: 0.14559940369799734\n",
      "Epoch: 7, Batch: 160, Avg. Loss: 0.08254847913049161\n",
      "Epoch: 7, Batch: 200, Avg. Loss: 0.1214914926327765\n",
      "Epoch: 7, Batch: 240, Avg. Loss: 0.0986531326547265\n",
      "Epoch: 7, Batch: 280, Avg. Loss: 0.09805883611552417\n",
      "Epoch: 7, Batch: 320, Avg. Loss: 0.135486672911793\n"
     ]
    },
    {
     "name": "stderr",
     "output_type": "stream",
     "text": [
      "/home/jair/CVND-udacity/P1_Facial_Keypoints/data_load.py:39: FutureWarning: Method .as_matrix will be removed in a future version. Use .values instead.\n",
      "  key_pts = self.key_pts_frame.iloc[idx, 1:].as_matrix()\n",
      "/home/jair/CVND-udacity/P1_Facial_Keypoints/data_load.py:39: FutureWarning: Method .as_matrix will be removed in a future version. Use .values instead.\n",
      "  key_pts = self.key_pts_frame.iloc[idx, 1:].as_matrix()\n",
      "/home/jair/CVND-udacity/P1_Facial_Keypoints/data_load.py:39: FutureWarning: Method .as_matrix will be removed in a future version. Use .values instead.\n",
      "  key_pts = self.key_pts_frame.iloc[idx, 1:].as_matrix()\n",
      "/home/jair/CVND-udacity/P1_Facial_Keypoints/data_load.py:39: FutureWarning: Method .as_matrix will be removed in a future version. Use .values instead.\n",
      "  key_pts = self.key_pts_frame.iloc[idx, 1:].as_matrix()\n"
     ]
    },
    {
     "name": "stdout",
     "output_type": "stream",
     "text": [
      "Epoch: 8, Batch: 40, Avg. Loss: 0.0899834256619215\n",
      "Epoch: 8, Batch: 80, Avg. Loss: 0.12071213466115296\n",
      "Epoch: 8, Batch: 120, Avg. Loss: 0.0968644659500569\n",
      "Epoch: 8, Batch: 160, Avg. Loss: 0.07757030376233161\n",
      "Epoch: 8, Batch: 200, Avg. Loss: 0.0820264330599457\n",
      "Epoch: 8, Batch: 240, Avg. Loss: 0.07819573120214045\n",
      "Epoch: 8, Batch: 280, Avg. Loss: 0.09259116910398006\n",
      "Epoch: 8, Batch: 320, Avg. Loss: 0.07477612998336554\n"
     ]
    },
    {
     "name": "stderr",
     "output_type": "stream",
     "text": [
      "/home/jair/CVND-udacity/P1_Facial_Keypoints/data_load.py:39: FutureWarning: Method .as_matrix will be removed in a future version. Use .values instead.\n",
      "  key_pts = self.key_pts_frame.iloc[idx, 1:].as_matrix()\n",
      "/home/jair/CVND-udacity/P1_Facial_Keypoints/data_load.py:39: FutureWarning: Method .as_matrix will be removed in a future version. Use .values instead.\n",
      "  key_pts = self.key_pts_frame.iloc[idx, 1:].as_matrix()\n",
      "/home/jair/CVND-udacity/P1_Facial_Keypoints/data_load.py:39: FutureWarning: Method .as_matrix will be removed in a future version. Use .values instead.\n",
      "  key_pts = self.key_pts_frame.iloc[idx, 1:].as_matrix()\n",
      "/home/jair/CVND-udacity/P1_Facial_Keypoints/data_load.py:39: FutureWarning: Method .as_matrix will be removed in a future version. Use .values instead.\n",
      "  key_pts = self.key_pts_frame.iloc[idx, 1:].as_matrix()\n"
     ]
    },
    {
     "name": "stdout",
     "output_type": "stream",
     "text": [
      "Epoch: 9, Batch: 40, Avg. Loss: 0.0771676365751773\n",
      "Epoch: 9, Batch: 80, Avg. Loss: 0.0752491327933967\n",
      "Epoch: 9, Batch: 120, Avg. Loss: 0.06187769523821771\n",
      "Epoch: 9, Batch: 160, Avg. Loss: 0.08149503259919584\n",
      "Epoch: 9, Batch: 200, Avg. Loss: 0.06321962401270867\n",
      "Epoch: 9, Batch: 240, Avg. Loss: 0.052241025399416684\n",
      "Epoch: 9, Batch: 280, Avg. Loss: 0.0859009550884366\n",
      "Epoch: 9, Batch: 320, Avg. Loss: 0.08338202242739498\n"
     ]
    },
    {
     "name": "stderr",
     "output_type": "stream",
     "text": [
      "/home/jair/CVND-udacity/P1_Facial_Keypoints/data_load.py:39: FutureWarning: Method .as_matrix will be removed in a future version. Use .values instead.\n",
      "  key_pts = self.key_pts_frame.iloc[idx, 1:].as_matrix()\n",
      "/home/jair/CVND-udacity/P1_Facial_Keypoints/data_load.py:39: FutureWarning: Method .as_matrix will be removed in a future version. Use .values instead.\n",
      "  key_pts = self.key_pts_frame.iloc[idx, 1:].as_matrix()\n",
      "/home/jair/CVND-udacity/P1_Facial_Keypoints/data_load.py:39: FutureWarning: Method .as_matrix will be removed in a future version. Use .values instead.\n",
      "  key_pts = self.key_pts_frame.iloc[idx, 1:].as_matrix()\n",
      "/home/jair/CVND-udacity/P1_Facial_Keypoints/data_load.py:39: FutureWarning: Method .as_matrix will be removed in a future version. Use .values instead.\n",
      "  key_pts = self.key_pts_frame.iloc[idx, 1:].as_matrix()\n"
     ]
    },
    {
     "name": "stdout",
     "output_type": "stream",
     "text": [
      "Epoch: 10, Batch: 40, Avg. Loss: 0.05705472566187382\n",
      "Epoch: 10, Batch: 80, Avg. Loss: 0.0573217328870669\n",
      "Epoch: 10, Batch: 120, Avg. Loss: 0.06916715796105563\n",
      "Epoch: 10, Batch: 160, Avg. Loss: 0.05122835109941661\n",
      "Epoch: 10, Batch: 200, Avg. Loss: 0.0881053064018488\n",
      "Epoch: 10, Batch: 240, Avg. Loss: 0.06771774059161544\n",
      "Epoch: 10, Batch: 280, Avg. Loss: 0.07454105876386166\n",
      "Epoch: 10, Batch: 320, Avg. Loss: 0.05423814905807376\n"
     ]
    },
    {
     "name": "stderr",
     "output_type": "stream",
     "text": [
      "/home/jair/CVND-udacity/P1_Facial_Keypoints/data_load.py:39: FutureWarning: Method .as_matrix will be removed in a future version. Use .values instead.\n",
      "  key_pts = self.key_pts_frame.iloc[idx, 1:].as_matrix()\n",
      "/home/jair/CVND-udacity/P1_Facial_Keypoints/data_load.py:39: FutureWarning: Method .as_matrix will be removed in a future version. Use .values instead.\n",
      "  key_pts = self.key_pts_frame.iloc[idx, 1:].as_matrix()\n",
      "/home/jair/CVND-udacity/P1_Facial_Keypoints/data_load.py:39: FutureWarning: Method .as_matrix will be removed in a future version. Use .values instead.\n",
      "  key_pts = self.key_pts_frame.iloc[idx, 1:].as_matrix()\n",
      "/home/jair/CVND-udacity/P1_Facial_Keypoints/data_load.py:39: FutureWarning: Method .as_matrix will be removed in a future version. Use .values instead.\n",
      "  key_pts = self.key_pts_frame.iloc[idx, 1:].as_matrix()\n"
     ]
    },
    {
     "name": "stdout",
     "output_type": "stream",
     "text": [
      "Epoch: 11, Batch: 40, Avg. Loss: 0.0538851807359606\n",
      "Epoch: 11, Batch: 80, Avg. Loss: 0.045686450647190215\n",
      "Epoch: 11, Batch: 120, Avg. Loss: 0.1177529548527673\n",
      "Epoch: 11, Batch: 160, Avg. Loss: 0.04177630003541708\n",
      "Epoch: 11, Batch: 200, Avg. Loss: 0.06540126730687916\n",
      "Epoch: 11, Batch: 240, Avg. Loss: 0.07368150115944445\n",
      "Epoch: 11, Batch: 280, Avg. Loss: 0.08044594172388315\n",
      "Epoch: 11, Batch: 320, Avg. Loss: 0.06844040020368994\n"
     ]
    },
    {
     "name": "stderr",
     "output_type": "stream",
     "text": [
      "/home/jair/CVND-udacity/P1_Facial_Keypoints/data_load.py:39: FutureWarning: Method .as_matrix will be removed in a future version. Use .values instead.\n",
      "  key_pts = self.key_pts_frame.iloc[idx, 1:].as_matrix()\n",
      "/home/jair/CVND-udacity/P1_Facial_Keypoints/data_load.py:39: FutureWarning: Method .as_matrix will be removed in a future version. Use .values instead.\n",
      "  key_pts = self.key_pts_frame.iloc[idx, 1:].as_matrix()\n",
      "/home/jair/CVND-udacity/P1_Facial_Keypoints/data_load.py:39: FutureWarning: Method .as_matrix will be removed in a future version. Use .values instead.\n",
      "  key_pts = self.key_pts_frame.iloc[idx, 1:].as_matrix()\n",
      "/home/jair/CVND-udacity/P1_Facial_Keypoints/data_load.py:39: FutureWarning: Method .as_matrix will be removed in a future version. Use .values instead.\n",
      "  key_pts = self.key_pts_frame.iloc[idx, 1:].as_matrix()\n"
     ]
    },
    {
     "name": "stdout",
     "output_type": "stream",
     "text": [
      "Epoch: 12, Batch: 40, Avg. Loss: 0.059373542107641696\n",
      "Epoch: 12, Batch: 80, Avg. Loss: 0.03807374984025955\n",
      "Epoch: 12, Batch: 120, Avg. Loss: 0.0510653252247721\n",
      "Epoch: 12, Batch: 160, Avg. Loss: 0.05436241342686117\n",
      "Epoch: 12, Batch: 200, Avg. Loss: 0.04448095164261758\n",
      "Epoch: 12, Batch: 240, Avg. Loss: 0.04668038310483098\n",
      "Epoch: 12, Batch: 280, Avg. Loss: 0.04895437965169549\n",
      "Epoch: 12, Batch: 320, Avg. Loss: 0.036790418927557765\n"
     ]
    },
    {
     "name": "stderr",
     "output_type": "stream",
     "text": [
      "/home/jair/CVND-udacity/P1_Facial_Keypoints/data_load.py:39: FutureWarning: Method .as_matrix will be removed in a future version. Use .values instead.\n",
      "  key_pts = self.key_pts_frame.iloc[idx, 1:].as_matrix()\n",
      "/home/jair/CVND-udacity/P1_Facial_Keypoints/data_load.py:39: FutureWarning: Method .as_matrix will be removed in a future version. Use .values instead.\n",
      "  key_pts = self.key_pts_frame.iloc[idx, 1:].as_matrix()\n",
      "/home/jair/CVND-udacity/P1_Facial_Keypoints/data_load.py:39: FutureWarning: Method .as_matrix will be removed in a future version. Use .values instead.\n",
      "  key_pts = self.key_pts_frame.iloc[idx, 1:].as_matrix()\n",
      "/home/jair/CVND-udacity/P1_Facial_Keypoints/data_load.py:39: FutureWarning: Method .as_matrix will be removed in a future version. Use .values instead.\n",
      "  key_pts = self.key_pts_frame.iloc[idx, 1:].as_matrix()\n"
     ]
    },
    {
     "name": "stdout",
     "output_type": "stream",
     "text": [
      "Epoch: 13, Batch: 40, Avg. Loss: 0.053128712764009836\n",
      "Epoch: 13, Batch: 80, Avg. Loss: 0.04167469162493944\n",
      "Epoch: 13, Batch: 120, Avg. Loss: 0.03208606999833137\n",
      "Epoch: 13, Batch: 160, Avg. Loss: 0.05305474994238466\n",
      "Epoch: 13, Batch: 200, Avg. Loss: 0.03327686819247901\n",
      "Epoch: 13, Batch: 240, Avg. Loss: 0.053765734215267\n",
      "Epoch: 13, Batch: 280, Avg. Loss: 0.03441032888367772\n",
      "Epoch: 13, Batch: 320, Avg. Loss: 0.033819455793127416\n"
     ]
    },
    {
     "name": "stderr",
     "output_type": "stream",
     "text": [
      "/home/jair/CVND-udacity/P1_Facial_Keypoints/data_load.py:39: FutureWarning: Method .as_matrix will be removed in a future version. Use .values instead.\n",
      "  key_pts = self.key_pts_frame.iloc[idx, 1:].as_matrix()\n",
      "/home/jair/CVND-udacity/P1_Facial_Keypoints/data_load.py:39: FutureWarning: Method .as_matrix will be removed in a future version. Use .values instead.\n",
      "  key_pts = self.key_pts_frame.iloc[idx, 1:].as_matrix()\n",
      "/home/jair/CVND-udacity/P1_Facial_Keypoints/data_load.py:39: FutureWarning: Method .as_matrix will be removed in a future version. Use .values instead.\n",
      "  key_pts = self.key_pts_frame.iloc[idx, 1:].as_matrix()\n",
      "/home/jair/CVND-udacity/P1_Facial_Keypoints/data_load.py:39: FutureWarning: Method .as_matrix will be removed in a future version. Use .values instead.\n",
      "  key_pts = self.key_pts_frame.iloc[idx, 1:].as_matrix()\n"
     ]
    },
    {
     "name": "stdout",
     "output_type": "stream",
     "text": [
      "Epoch: 14, Batch: 40, Avg. Loss: 0.044699625577777624\n",
      "Epoch: 14, Batch: 80, Avg. Loss: 0.03759552072733641\n",
      "Epoch: 14, Batch: 120, Avg. Loss: 0.055971803073771295\n",
      "Epoch: 14, Batch: 160, Avg. Loss: 0.09456311871763319\n",
      "Epoch: 14, Batch: 200, Avg. Loss: 0.07146821874193847\n",
      "Epoch: 14, Batch: 240, Avg. Loss: 0.051282335398718716\n",
      "Epoch: 14, Batch: 280, Avg. Loss: 0.0389406997943297\n",
      "Epoch: 14, Batch: 320, Avg. Loss: 0.041258270293474196\n"
     ]
    },
    {
     "name": "stderr",
     "output_type": "stream",
     "text": [
      "/home/jair/CVND-udacity/P1_Facial_Keypoints/data_load.py:39: FutureWarning: Method .as_matrix will be removed in a future version. Use .values instead.\n",
      "  key_pts = self.key_pts_frame.iloc[idx, 1:].as_matrix()\n",
      "/home/jair/CVND-udacity/P1_Facial_Keypoints/data_load.py:39: FutureWarning: Method .as_matrix will be removed in a future version. Use .values instead.\n",
      "  key_pts = self.key_pts_frame.iloc[idx, 1:].as_matrix()\n",
      "/home/jair/CVND-udacity/P1_Facial_Keypoints/data_load.py:39: FutureWarning: Method .as_matrix will be removed in a future version. Use .values instead.\n",
      "  key_pts = self.key_pts_frame.iloc[idx, 1:].as_matrix()\n",
      "/home/jair/CVND-udacity/P1_Facial_Keypoints/data_load.py:39: FutureWarning: Method .as_matrix will be removed in a future version. Use .values instead.\n",
      "  key_pts = self.key_pts_frame.iloc[idx, 1:].as_matrix()\n"
     ]
    },
    {
     "name": "stdout",
     "output_type": "stream",
     "text": [
      "Epoch: 15, Batch: 40, Avg. Loss: 0.03455435764044523\n",
      "Epoch: 15, Batch: 80, Avg. Loss: 0.03667351850308478\n",
      "Epoch: 15, Batch: 120, Avg. Loss: 0.0934153126552701\n",
      "Epoch: 15, Batch: 160, Avg. Loss: 0.04294124485459179\n",
      "Epoch: 15, Batch: 200, Avg. Loss: 0.12030447646975517\n",
      "Epoch: 15, Batch: 240, Avg. Loss: 0.03880808148533106\n",
      "Epoch: 15, Batch: 280, Avg. Loss: 0.0410203198203817\n",
      "Epoch: 15, Batch: 320, Avg. Loss: 0.04305500935297459\n"
     ]
    },
    {
     "name": "stderr",
     "output_type": "stream",
     "text": [
      "/home/jair/CVND-udacity/P1_Facial_Keypoints/data_load.py:39: FutureWarning: Method .as_matrix will be removed in a future version. Use .values instead.\n",
      "  key_pts = self.key_pts_frame.iloc[idx, 1:].as_matrix()\n",
      "/home/jair/CVND-udacity/P1_Facial_Keypoints/data_load.py:39: FutureWarning: Method .as_matrix will be removed in a future version. Use .values instead.\n",
      "  key_pts = self.key_pts_frame.iloc[idx, 1:].as_matrix()\n",
      "/home/jair/CVND-udacity/P1_Facial_Keypoints/data_load.py:39: FutureWarning: Method .as_matrix will be removed in a future version. Use .values instead.\n",
      "  key_pts = self.key_pts_frame.iloc[idx, 1:].as_matrix()\n",
      "/home/jair/CVND-udacity/P1_Facial_Keypoints/data_load.py:39: FutureWarning: Method .as_matrix will be removed in a future version. Use .values instead.\n",
      "  key_pts = self.key_pts_frame.iloc[idx, 1:].as_matrix()\n"
     ]
    },
    {
     "name": "stdout",
     "output_type": "stream",
     "text": [
      "Epoch: 16, Batch: 40, Avg. Loss: 0.04627894409932196\n",
      "Epoch: 16, Batch: 80, Avg. Loss: 0.03626205744221807\n",
      "Epoch: 16, Batch: 120, Avg. Loss: 0.03109385007992387\n",
      "Epoch: 16, Batch: 160, Avg. Loss: 0.030971085443161427\n",
      "Epoch: 16, Batch: 200, Avg. Loss: 0.02706800859887153\n",
      "Epoch: 16, Batch: 240, Avg. Loss: 0.026694898679852485\n",
      "Epoch: 16, Batch: 280, Avg. Loss: 0.02729306530673057\n",
      "Epoch: 16, Batch: 320, Avg. Loss: 0.03315448719076812\n"
     ]
    },
    {
     "name": "stderr",
     "output_type": "stream",
     "text": [
      "/home/jair/CVND-udacity/P1_Facial_Keypoints/data_load.py:39: FutureWarning: Method .as_matrix will be removed in a future version. Use .values instead.\n",
      "  key_pts = self.key_pts_frame.iloc[idx, 1:].as_matrix()\n",
      "/home/jair/CVND-udacity/P1_Facial_Keypoints/data_load.py:39: FutureWarning: Method .as_matrix will be removed in a future version. Use .values instead.\n",
      "  key_pts = self.key_pts_frame.iloc[idx, 1:].as_matrix()\n",
      "/home/jair/CVND-udacity/P1_Facial_Keypoints/data_load.py:39: FutureWarning: Method .as_matrix will be removed in a future version. Use .values instead.\n",
      "  key_pts = self.key_pts_frame.iloc[idx, 1:].as_matrix()\n",
      "/home/jair/CVND-udacity/P1_Facial_Keypoints/data_load.py:39: FutureWarning: Method .as_matrix will be removed in a future version. Use .values instead.\n",
      "  key_pts = self.key_pts_frame.iloc[idx, 1:].as_matrix()\n"
     ]
    },
    {
     "name": "stdout",
     "output_type": "stream",
     "text": [
      "Epoch: 17, Batch: 40, Avg. Loss: 0.03212968586012721\n",
      "Epoch: 17, Batch: 80, Avg. Loss: 0.044919222686439754\n",
      "Epoch: 17, Batch: 120, Avg. Loss: 0.11069325818680227\n",
      "Epoch: 17, Batch: 160, Avg. Loss: 0.05081381513737142\n",
      "Epoch: 17, Batch: 200, Avg. Loss: 0.062077124044299124\n",
      "Epoch: 17, Batch: 240, Avg. Loss: 0.03379583293572068\n",
      "Epoch: 17, Batch: 280, Avg. Loss: 0.04796917212661356\n",
      "Epoch: 17, Batch: 320, Avg. Loss: 0.030766054266132416\n"
     ]
    },
    {
     "name": "stderr",
     "output_type": "stream",
     "text": [
      "/home/jair/CVND-udacity/P1_Facial_Keypoints/data_load.py:39: FutureWarning: Method .as_matrix will be removed in a future version. Use .values instead.\n",
      "  key_pts = self.key_pts_frame.iloc[idx, 1:].as_matrix()\n",
      "/home/jair/CVND-udacity/P1_Facial_Keypoints/data_load.py:39: FutureWarning: Method .as_matrix will be removed in a future version. Use .values instead.\n",
      "  key_pts = self.key_pts_frame.iloc[idx, 1:].as_matrix()\n",
      "/home/jair/CVND-udacity/P1_Facial_Keypoints/data_load.py:39: FutureWarning: Method .as_matrix will be removed in a future version. Use .values instead.\n",
      "  key_pts = self.key_pts_frame.iloc[idx, 1:].as_matrix()\n",
      "/home/jair/CVND-udacity/P1_Facial_Keypoints/data_load.py:39: FutureWarning: Method .as_matrix will be removed in a future version. Use .values instead.\n",
      "  key_pts = self.key_pts_frame.iloc[idx, 1:].as_matrix()\n"
     ]
    },
    {
     "name": "stdout",
     "output_type": "stream",
     "text": [
      "Epoch: 18, Batch: 40, Avg. Loss: 0.03863039850257337\n",
      "Epoch: 18, Batch: 80, Avg. Loss: 0.033426542300730944\n",
      "Epoch: 18, Batch: 120, Avg. Loss: 0.025915767601691186\n",
      "Epoch: 18, Batch: 160, Avg. Loss: 0.08824173377361148\n",
      "Epoch: 18, Batch: 200, Avg. Loss: 0.03959330124780536\n",
      "Epoch: 18, Batch: 240, Avg. Loss: 0.03134448719210923\n",
      "Epoch: 18, Batch: 280, Avg. Loss: 0.030066771223209797\n",
      "Epoch: 18, Batch: 320, Avg. Loss: 0.024277452775277198\n"
     ]
    },
    {
     "name": "stderr",
     "output_type": "stream",
     "text": [
      "/home/jair/CVND-udacity/P1_Facial_Keypoints/data_load.py:39: FutureWarning: Method .as_matrix will be removed in a future version. Use .values instead.\n",
      "  key_pts = self.key_pts_frame.iloc[idx, 1:].as_matrix()\n",
      "/home/jair/CVND-udacity/P1_Facial_Keypoints/data_load.py:39: FutureWarning: Method .as_matrix will be removed in a future version. Use .values instead.\n",
      "  key_pts = self.key_pts_frame.iloc[idx, 1:].as_matrix()\n",
      "/home/jair/CVND-udacity/P1_Facial_Keypoints/data_load.py:39: FutureWarning: Method .as_matrix will be removed in a future version. Use .values instead.\n",
      "  key_pts = self.key_pts_frame.iloc[idx, 1:].as_matrix()\n",
      "/home/jair/CVND-udacity/P1_Facial_Keypoints/data_load.py:39: FutureWarning: Method .as_matrix will be removed in a future version. Use .values instead.\n",
      "  key_pts = self.key_pts_frame.iloc[idx, 1:].as_matrix()\n"
     ]
    },
    {
     "name": "stdout",
     "output_type": "stream",
     "text": [
      "Epoch: 19, Batch: 40, Avg. Loss: 0.043813688191585244\n",
      "Epoch: 19, Batch: 80, Avg. Loss: 0.04364848416298628\n",
      "Epoch: 19, Batch: 120, Avg. Loss: 0.03642176131252199\n",
      "Epoch: 19, Batch: 160, Avg. Loss: 0.05526016927324236\n",
      "Epoch: 19, Batch: 200, Avg. Loss: 0.0323287851177156\n",
      "Epoch: 19, Batch: 240, Avg. Loss: 0.03135967738926411\n",
      "Epoch: 19, Batch: 280, Avg. Loss: 0.029343753051944078\n",
      "Epoch: 19, Batch: 320, Avg. Loss: 0.08557393883820623\n"
     ]
    },
    {
     "name": "stderr",
     "output_type": "stream",
     "text": [
      "/home/jair/CVND-udacity/P1_Facial_Keypoints/data_load.py:39: FutureWarning: Method .as_matrix will be removed in a future version. Use .values instead.\n",
      "  key_pts = self.key_pts_frame.iloc[idx, 1:].as_matrix()\n",
      "/home/jair/CVND-udacity/P1_Facial_Keypoints/data_load.py:39: FutureWarning: Method .as_matrix will be removed in a future version. Use .values instead.\n",
      "  key_pts = self.key_pts_frame.iloc[idx, 1:].as_matrix()\n",
      "/home/jair/CVND-udacity/P1_Facial_Keypoints/data_load.py:39: FutureWarning: Method .as_matrix will be removed in a future version. Use .values instead.\n",
      "  key_pts = self.key_pts_frame.iloc[idx, 1:].as_matrix()\n",
      "/home/jair/CVND-udacity/P1_Facial_Keypoints/data_load.py:39: FutureWarning: Method .as_matrix will be removed in a future version. Use .values instead.\n",
      "  key_pts = self.key_pts_frame.iloc[idx, 1:].as_matrix()\n"
     ]
    },
    {
     "name": "stdout",
     "output_type": "stream",
     "text": [
      "Epoch: 20, Batch: 40, Avg. Loss: 0.03789479446131736\n",
      "Epoch: 20, Batch: 80, Avg. Loss: 0.07856560945510864\n",
      "Epoch: 20, Batch: 120, Avg. Loss: 0.029636453627608715\n",
      "Epoch: 20, Batch: 160, Avg. Loss: 0.04594539012759924\n",
      "Epoch: 20, Batch: 200, Avg. Loss: 0.031402976554818454\n",
      "Epoch: 20, Batch: 240, Avg. Loss: 0.02421316332183778\n",
      "Epoch: 20, Batch: 280, Avg. Loss: 0.019568350864574313\n",
      "Epoch: 20, Batch: 320, Avg. Loss: 0.027701286668889224\n"
     ]
    },
    {
     "name": "stderr",
     "output_type": "stream",
     "text": [
      "/home/jair/CVND-udacity/P1_Facial_Keypoints/data_load.py:39: FutureWarning: Method .as_matrix will be removed in a future version. Use .values instead.\n",
      "  key_pts = self.key_pts_frame.iloc[idx, 1:].as_matrix()\n",
      "/home/jair/CVND-udacity/P1_Facial_Keypoints/data_load.py:39: FutureWarning: Method .as_matrix will be removed in a future version. Use .values instead.\n",
      "  key_pts = self.key_pts_frame.iloc[idx, 1:].as_matrix()\n",
      "/home/jair/CVND-udacity/P1_Facial_Keypoints/data_load.py:39: FutureWarning: Method .as_matrix will be removed in a future version. Use .values instead.\n",
      "  key_pts = self.key_pts_frame.iloc[idx, 1:].as_matrix()\n",
      "/home/jair/CVND-udacity/P1_Facial_Keypoints/data_load.py:39: FutureWarning: Method .as_matrix will be removed in a future version. Use .values instead.\n",
      "  key_pts = self.key_pts_frame.iloc[idx, 1:].as_matrix()\n"
     ]
    },
    {
     "name": "stdout",
     "output_type": "stream",
     "text": [
      "Epoch: 21, Batch: 40, Avg. Loss: 0.029608940775506198\n",
      "Epoch: 21, Batch: 80, Avg. Loss: 0.04612809724640101\n",
      "Epoch: 21, Batch: 120, Avg. Loss: 0.031038824492134152\n",
      "Epoch: 21, Batch: 160, Avg. Loss: 0.04478756808675825\n",
      "Epoch: 21, Batch: 200, Avg. Loss: 0.025035443087108433\n",
      "Epoch: 21, Batch: 240, Avg. Loss: 0.02354225383605808\n",
      "Epoch: 21, Batch: 280, Avg. Loss: 0.021825046837329866\n",
      "Epoch: 21, Batch: 320, Avg. Loss: 0.02453879420645535\n"
     ]
    },
    {
     "name": "stderr",
     "output_type": "stream",
     "text": [
      "/home/jair/CVND-udacity/P1_Facial_Keypoints/data_load.py:39: FutureWarning: Method .as_matrix will be removed in a future version. Use .values instead.\n",
      "  key_pts = self.key_pts_frame.iloc[idx, 1:].as_matrix()\n",
      "/home/jair/CVND-udacity/P1_Facial_Keypoints/data_load.py:39: FutureWarning: Method .as_matrix will be removed in a future version. Use .values instead.\n",
      "  key_pts = self.key_pts_frame.iloc[idx, 1:].as_matrix()\n",
      "/home/jair/CVND-udacity/P1_Facial_Keypoints/data_load.py:39: FutureWarning: Method .as_matrix will be removed in a future version. Use .values instead.\n",
      "  key_pts = self.key_pts_frame.iloc[idx, 1:].as_matrix()\n",
      "/home/jair/CVND-udacity/P1_Facial_Keypoints/data_load.py:39: FutureWarning: Method .as_matrix will be removed in a future version. Use .values instead.\n",
      "  key_pts = self.key_pts_frame.iloc[idx, 1:].as_matrix()\n"
     ]
    },
    {
     "name": "stdout",
     "output_type": "stream",
     "text": [
      "Epoch: 22, Batch: 40, Avg. Loss: 0.0390360249672085\n",
      "Epoch: 22, Batch: 80, Avg. Loss: 0.02251997236162424\n",
      "Epoch: 22, Batch: 120, Avg. Loss: 0.03244573397096247\n",
      "Epoch: 22, Batch: 160, Avg. Loss: 0.026772510109003632\n",
      "Epoch: 22, Batch: 200, Avg. Loss: 0.05618294212035835\n",
      "Epoch: 22, Batch: 240, Avg. Loss: 0.02702979655005038\n",
      "Epoch: 22, Batch: 280, Avg. Loss: 0.03528440098743886\n",
      "Epoch: 22, Batch: 320, Avg. Loss: 0.03631581058725715\n"
     ]
    },
    {
     "name": "stderr",
     "output_type": "stream",
     "text": [
      "/home/jair/CVND-udacity/P1_Facial_Keypoints/data_load.py:39: FutureWarning: Method .as_matrix will be removed in a future version. Use .values instead.\n",
      "  key_pts = self.key_pts_frame.iloc[idx, 1:].as_matrix()\n",
      "/home/jair/CVND-udacity/P1_Facial_Keypoints/data_load.py:39: FutureWarning: Method .as_matrix will be removed in a future version. Use .values instead.\n",
      "  key_pts = self.key_pts_frame.iloc[idx, 1:].as_matrix()\n",
      "/home/jair/CVND-udacity/P1_Facial_Keypoints/data_load.py:39: FutureWarning: Method .as_matrix will be removed in a future version. Use .values instead.\n",
      "  key_pts = self.key_pts_frame.iloc[idx, 1:].as_matrix()\n",
      "/home/jair/CVND-udacity/P1_Facial_Keypoints/data_load.py:39: FutureWarning: Method .as_matrix will be removed in a future version. Use .values instead.\n",
      "  key_pts = self.key_pts_frame.iloc[idx, 1:].as_matrix()\n"
     ]
    },
    {
     "name": "stdout",
     "output_type": "stream",
     "text": [
      "Epoch: 23, Batch: 40, Avg. Loss: 0.03753953219857067\n",
      "Epoch: 23, Batch: 80, Avg. Loss: 0.027882586792111398\n",
      "Epoch: 23, Batch: 120, Avg. Loss: 0.020997333829291163\n",
      "Epoch: 23, Batch: 160, Avg. Loss: 0.03114508620928973\n",
      "Epoch: 23, Batch: 200, Avg. Loss: 0.032620975538156925\n",
      "Epoch: 23, Batch: 240, Avg. Loss: 0.01937044351361692\n",
      "Epoch: 23, Batch: 280, Avg. Loss: 0.05313363242894411\n",
      "Epoch: 23, Batch: 320, Avg. Loss: 0.029128894675523043\n"
     ]
    },
    {
     "name": "stderr",
     "output_type": "stream",
     "text": [
      "/home/jair/CVND-udacity/P1_Facial_Keypoints/data_load.py:39: FutureWarning: Method .as_matrix will be removed in a future version. Use .values instead.\n",
      "  key_pts = self.key_pts_frame.iloc[idx, 1:].as_matrix()\n",
      "/home/jair/CVND-udacity/P1_Facial_Keypoints/data_load.py:39: FutureWarning: Method .as_matrix will be removed in a future version. Use .values instead.\n",
      "  key_pts = self.key_pts_frame.iloc[idx, 1:].as_matrix()\n",
      "/home/jair/CVND-udacity/P1_Facial_Keypoints/data_load.py:39: FutureWarning: Method .as_matrix will be removed in a future version. Use .values instead.\n",
      "  key_pts = self.key_pts_frame.iloc[idx, 1:].as_matrix()\n",
      "/home/jair/CVND-udacity/P1_Facial_Keypoints/data_load.py:39: FutureWarning: Method .as_matrix will be removed in a future version. Use .values instead.\n",
      "  key_pts = self.key_pts_frame.iloc[idx, 1:].as_matrix()\n"
     ]
    },
    {
     "name": "stdout",
     "output_type": "stream",
     "text": [
      "Epoch: 24, Batch: 40, Avg. Loss: 0.0295566096669063\n",
      "Epoch: 24, Batch: 80, Avg. Loss: 0.029412958724424242\n",
      "Epoch: 24, Batch: 120, Avg. Loss: 0.024780409689992667\n",
      "Epoch: 24, Batch: 160, Avg. Loss: 0.02451683145482093\n",
      "Epoch: 24, Batch: 200, Avg. Loss: 0.030468599195592104\n",
      "Epoch: 24, Batch: 240, Avg. Loss: 0.03301916099153459\n",
      "Epoch: 24, Batch: 280, Avg. Loss: 0.024210878321900962\n",
      "Epoch: 24, Batch: 320, Avg. Loss: 0.03447682468686253\n"
     ]
    },
    {
     "name": "stderr",
     "output_type": "stream",
     "text": [
      "/home/jair/CVND-udacity/P1_Facial_Keypoints/data_load.py:39: FutureWarning: Method .as_matrix will be removed in a future version. Use .values instead.\n",
      "  key_pts = self.key_pts_frame.iloc[idx, 1:].as_matrix()\n",
      "/home/jair/CVND-udacity/P1_Facial_Keypoints/data_load.py:39: FutureWarning: Method .as_matrix will be removed in a future version. Use .values instead.\n",
      "  key_pts = self.key_pts_frame.iloc[idx, 1:].as_matrix()\n",
      "/home/jair/CVND-udacity/P1_Facial_Keypoints/data_load.py:39: FutureWarning: Method .as_matrix will be removed in a future version. Use .values instead.\n",
      "  key_pts = self.key_pts_frame.iloc[idx, 1:].as_matrix()\n",
      "/home/jair/CVND-udacity/P1_Facial_Keypoints/data_load.py:39: FutureWarning: Method .as_matrix will be removed in a future version. Use .values instead.\n",
      "  key_pts = self.key_pts_frame.iloc[idx, 1:].as_matrix()\n"
     ]
    },
    {
     "name": "stdout",
     "output_type": "stream",
     "text": [
      "Epoch: 25, Batch: 40, Avg. Loss: 0.019481409899890424\n",
      "Epoch: 25, Batch: 80, Avg. Loss: 0.018832948931958526\n",
      "Epoch: 25, Batch: 120, Avg. Loss: 0.02241336216684431\n",
      "Epoch: 25, Batch: 160, Avg. Loss: 0.015831952309235932\n",
      "Epoch: 25, Batch: 200, Avg. Loss: 0.022119471454061568\n",
      "Epoch: 25, Batch: 240, Avg. Loss: 0.022724268026649952\n",
      "Epoch: 25, Batch: 280, Avg. Loss: 0.03031687156762928\n",
      "Epoch: 25, Batch: 320, Avg. Loss: 0.02127991458401084\n"
     ]
    },
    {
     "name": "stderr",
     "output_type": "stream",
     "text": [
      "/home/jair/CVND-udacity/P1_Facial_Keypoints/data_load.py:39: FutureWarning: Method .as_matrix will be removed in a future version. Use .values instead.\n",
      "  key_pts = self.key_pts_frame.iloc[idx, 1:].as_matrix()\n",
      "/home/jair/CVND-udacity/P1_Facial_Keypoints/data_load.py:39: FutureWarning: Method .as_matrix will be removed in a future version. Use .values instead.\n",
      "  key_pts = self.key_pts_frame.iloc[idx, 1:].as_matrix()\n",
      "/home/jair/CVND-udacity/P1_Facial_Keypoints/data_load.py:39: FutureWarning: Method .as_matrix will be removed in a future version. Use .values instead.\n",
      "  key_pts = self.key_pts_frame.iloc[idx, 1:].as_matrix()\n",
      "/home/jair/CVND-udacity/P1_Facial_Keypoints/data_load.py:39: FutureWarning: Method .as_matrix will be removed in a future version. Use .values instead.\n",
      "  key_pts = self.key_pts_frame.iloc[idx, 1:].as_matrix()\n"
     ]
    },
    {
     "name": "stdout",
     "output_type": "stream",
     "text": [
      "Epoch: 26, Batch: 40, Avg. Loss: 0.052225435897707936\n",
      "Epoch: 26, Batch: 80, Avg. Loss: 0.025965491915121673\n",
      "Epoch: 26, Batch: 120, Avg. Loss: 0.04337198913563043\n",
      "Epoch: 26, Batch: 160, Avg. Loss: 0.03523160037584603\n",
      "Epoch: 26, Batch: 200, Avg. Loss: 0.050534250936470924\n",
      "Epoch: 26, Batch: 240, Avg. Loss: 0.04049694617278874\n",
      "Epoch: 26, Batch: 280, Avg. Loss: 0.023946576588787138\n",
      "Epoch: 26, Batch: 320, Avg. Loss: 0.021043164911679922\n"
     ]
    },
    {
     "name": "stderr",
     "output_type": "stream",
     "text": [
      "/home/jair/CVND-udacity/P1_Facial_Keypoints/data_load.py:39: FutureWarning: Method .as_matrix will be removed in a future version. Use .values instead.\n",
      "  key_pts = self.key_pts_frame.iloc[idx, 1:].as_matrix()\n",
      "/home/jair/CVND-udacity/P1_Facial_Keypoints/data_load.py:39: FutureWarning: Method .as_matrix will be removed in a future version. Use .values instead.\n",
      "  key_pts = self.key_pts_frame.iloc[idx, 1:].as_matrix()\n",
      "/home/jair/CVND-udacity/P1_Facial_Keypoints/data_load.py:39: FutureWarning: Method .as_matrix will be removed in a future version. Use .values instead.\n",
      "  key_pts = self.key_pts_frame.iloc[idx, 1:].as_matrix()\n",
      "/home/jair/CVND-udacity/P1_Facial_Keypoints/data_load.py:39: FutureWarning: Method .as_matrix will be removed in a future version. Use .values instead.\n",
      "  key_pts = self.key_pts_frame.iloc[idx, 1:].as_matrix()\n"
     ]
    },
    {
     "name": "stdout",
     "output_type": "stream",
     "text": [
      "Epoch: 27, Batch: 40, Avg. Loss: 0.02122682207264006\n",
      "Epoch: 27, Batch: 80, Avg. Loss: 0.022464933316223325\n",
      "Epoch: 27, Batch: 120, Avg. Loss: 0.01867772559635341\n",
      "Epoch: 27, Batch: 160, Avg. Loss: 0.03218727221246809\n",
      "Epoch: 27, Batch: 200, Avg. Loss: 0.018341550254262984\n",
      "Epoch: 27, Batch: 240, Avg. Loss: 0.04980671741068363\n",
      "Epoch: 27, Batch: 280, Avg. Loss: 0.022044172789901496\n",
      "Epoch: 27, Batch: 320, Avg. Loss: 0.021700144535861908\n"
     ]
    },
    {
     "name": "stderr",
     "output_type": "stream",
     "text": [
      "/home/jair/CVND-udacity/P1_Facial_Keypoints/data_load.py:39: FutureWarning: Method .as_matrix will be removed in a future version. Use .values instead.\n",
      "  key_pts = self.key_pts_frame.iloc[idx, 1:].as_matrix()\n",
      "/home/jair/CVND-udacity/P1_Facial_Keypoints/data_load.py:39: FutureWarning: Method .as_matrix will be removed in a future version. Use .values instead.\n",
      "  key_pts = self.key_pts_frame.iloc[idx, 1:].as_matrix()\n",
      "/home/jair/CVND-udacity/P1_Facial_Keypoints/data_load.py:39: FutureWarning: Method .as_matrix will be removed in a future version. Use .values instead.\n",
      "  key_pts = self.key_pts_frame.iloc[idx, 1:].as_matrix()\n",
      "/home/jair/CVND-udacity/P1_Facial_Keypoints/data_load.py:39: FutureWarning: Method .as_matrix will be removed in a future version. Use .values instead.\n",
      "  key_pts = self.key_pts_frame.iloc[idx, 1:].as_matrix()\n"
     ]
    },
    {
     "name": "stdout",
     "output_type": "stream",
     "text": [
      "Epoch: 28, Batch: 40, Avg. Loss: 0.057658632891252636\n",
      "Epoch: 28, Batch: 80, Avg. Loss: 0.030704462598077954\n",
      "Epoch: 28, Batch: 120, Avg. Loss: 0.026209358894266187\n",
      "Epoch: 28, Batch: 160, Avg. Loss: 0.031149423867464065\n",
      "Epoch: 28, Batch: 200, Avg. Loss: 0.027999750897288324\n",
      "Epoch: 28, Batch: 240, Avg. Loss: 0.0483372223097831\n",
      "Epoch: 28, Batch: 280, Avg. Loss: 0.023175961175002157\n",
      "Epoch: 28, Batch: 320, Avg. Loss: 0.03229418196715415\n"
     ]
    },
    {
     "name": "stderr",
     "output_type": "stream",
     "text": [
      "/home/jair/CVND-udacity/P1_Facial_Keypoints/data_load.py:39: FutureWarning: Method .as_matrix will be removed in a future version. Use .values instead.\n",
      "  key_pts = self.key_pts_frame.iloc[idx, 1:].as_matrix()\n",
      "/home/jair/CVND-udacity/P1_Facial_Keypoints/data_load.py:39: FutureWarning: Method .as_matrix will be removed in a future version. Use .values instead.\n",
      "  key_pts = self.key_pts_frame.iloc[idx, 1:].as_matrix()\n",
      "/home/jair/CVND-udacity/P1_Facial_Keypoints/data_load.py:39: FutureWarning: Method .as_matrix will be removed in a future version. Use .values instead.\n",
      "  key_pts = self.key_pts_frame.iloc[idx, 1:].as_matrix()\n",
      "/home/jair/CVND-udacity/P1_Facial_Keypoints/data_load.py:39: FutureWarning: Method .as_matrix will be removed in a future version. Use .values instead.\n",
      "  key_pts = self.key_pts_frame.iloc[idx, 1:].as_matrix()\n"
     ]
    },
    {
     "name": "stdout",
     "output_type": "stream",
     "text": [
      "Epoch: 29, Batch: 40, Avg. Loss: 0.0216287927236408\n",
      "Epoch: 29, Batch: 80, Avg. Loss: 0.016339295136276633\n",
      "Epoch: 29, Batch: 120, Avg. Loss: 0.034518505597952755\n",
      "Epoch: 29, Batch: 160, Avg. Loss: 0.016616765037178995\n",
      "Epoch: 29, Batch: 200, Avg. Loss: 0.019816450634971262\n",
      "Epoch: 29, Batch: 240, Avg. Loss: 0.021400197688490153\n",
      "Epoch: 29, Batch: 280, Avg. Loss: 0.025159063981845975\n",
      "Epoch: 29, Batch: 320, Avg. Loss: 0.024342167819850147\n"
     ]
    },
    {
     "name": "stderr",
     "output_type": "stream",
     "text": [
      "/home/jair/CVND-udacity/P1_Facial_Keypoints/data_load.py:39: FutureWarning: Method .as_matrix will be removed in a future version. Use .values instead.\n",
      "  key_pts = self.key_pts_frame.iloc[idx, 1:].as_matrix()\n",
      "/home/jair/CVND-udacity/P1_Facial_Keypoints/data_load.py:39: FutureWarning: Method .as_matrix will be removed in a future version. Use .values instead.\n",
      "  key_pts = self.key_pts_frame.iloc[idx, 1:].as_matrix()\n",
      "/home/jair/CVND-udacity/P1_Facial_Keypoints/data_load.py:39: FutureWarning: Method .as_matrix will be removed in a future version. Use .values instead.\n",
      "  key_pts = self.key_pts_frame.iloc[idx, 1:].as_matrix()\n",
      "/home/jair/CVND-udacity/P1_Facial_Keypoints/data_load.py:39: FutureWarning: Method .as_matrix will be removed in a future version. Use .values instead.\n",
      "  key_pts = self.key_pts_frame.iloc[idx, 1:].as_matrix()\n"
     ]
    },
    {
     "name": "stdout",
     "output_type": "stream",
     "text": [
      "Epoch: 30, Batch: 40, Avg. Loss: 0.029845824535004794\n",
      "Epoch: 30, Batch: 80, Avg. Loss: 0.026280087372288107\n",
      "Epoch: 30, Batch: 120, Avg. Loss: 0.020497830701060593\n",
      "Epoch: 30, Batch: 160, Avg. Loss: 0.03212406793609261\n",
      "Epoch: 30, Batch: 200, Avg. Loss: 0.021989290416240693\n",
      "Epoch: 30, Batch: 240, Avg. Loss: 0.016838311776518823\n",
      "Epoch: 30, Batch: 280, Avg. Loss: 0.019040877232328057\n",
      "Epoch: 30, Batch: 320, Avg. Loss: 0.024991843570023774\n"
     ]
    },
    {
     "name": "stderr",
     "output_type": "stream",
     "text": [
      "/home/jair/CVND-udacity/P1_Facial_Keypoints/data_load.py:39: FutureWarning: Method .as_matrix will be removed in a future version. Use .values instead.\n",
      "  key_pts = self.key_pts_frame.iloc[idx, 1:].as_matrix()\n",
      "/home/jair/CVND-udacity/P1_Facial_Keypoints/data_load.py:39: FutureWarning: Method .as_matrix will be removed in a future version. Use .values instead.\n",
      "  key_pts = self.key_pts_frame.iloc[idx, 1:].as_matrix()\n",
      "/home/jair/CVND-udacity/P1_Facial_Keypoints/data_load.py:39: FutureWarning: Method .as_matrix will be removed in a future version. Use .values instead.\n",
      "  key_pts = self.key_pts_frame.iloc[idx, 1:].as_matrix()\n",
      "/home/jair/CVND-udacity/P1_Facial_Keypoints/data_load.py:39: FutureWarning: Method .as_matrix will be removed in a future version. Use .values instead.\n",
      "  key_pts = self.key_pts_frame.iloc[idx, 1:].as_matrix()\n"
     ]
    },
    {
     "name": "stdout",
     "output_type": "stream",
     "text": [
      "Epoch: 31, Batch: 40, Avg. Loss: 0.01876293511595577\n",
      "Epoch: 31, Batch: 80, Avg. Loss: 0.025086435978300868\n",
      "Epoch: 31, Batch: 120, Avg. Loss: 0.021363699855282903\n",
      "Epoch: 31, Batch: 160, Avg. Loss: 0.023000806581694632\n",
      "Epoch: 31, Batch: 200, Avg. Loss: 0.02258212964516133\n",
      "Epoch: 31, Batch: 240, Avg. Loss: 0.048871102975681424\n",
      "Epoch: 31, Batch: 280, Avg. Loss: 0.1320555039215833\n",
      "Epoch: 31, Batch: 320, Avg. Loss: 0.07773985555395484\n"
     ]
    },
    {
     "name": "stderr",
     "output_type": "stream",
     "text": [
      "/home/jair/CVND-udacity/P1_Facial_Keypoints/data_load.py:39: FutureWarning: Method .as_matrix will be removed in a future version. Use .values instead.\n",
      "  key_pts = self.key_pts_frame.iloc[idx, 1:].as_matrix()\n",
      "/home/jair/CVND-udacity/P1_Facial_Keypoints/data_load.py:39: FutureWarning: Method .as_matrix will be removed in a future version. Use .values instead.\n",
      "  key_pts = self.key_pts_frame.iloc[idx, 1:].as_matrix()\n",
      "/home/jair/CVND-udacity/P1_Facial_Keypoints/data_load.py:39: FutureWarning: Method .as_matrix will be removed in a future version. Use .values instead.\n",
      "  key_pts = self.key_pts_frame.iloc[idx, 1:].as_matrix()\n",
      "/home/jair/CVND-udacity/P1_Facial_Keypoints/data_load.py:39: FutureWarning: Method .as_matrix will be removed in a future version. Use .values instead.\n",
      "  key_pts = self.key_pts_frame.iloc[idx, 1:].as_matrix()\n"
     ]
    },
    {
     "name": "stdout",
     "output_type": "stream",
     "text": [
      "Epoch: 32, Batch: 40, Avg. Loss: 0.04724733983166516\n",
      "Epoch: 32, Batch: 80, Avg. Loss: 0.03198453963268548\n",
      "Epoch: 32, Batch: 120, Avg. Loss: 0.024753464176319538\n",
      "Epoch: 32, Batch: 160, Avg. Loss: 0.022377366619184613\n",
      "Epoch: 32, Batch: 200, Avg. Loss: 0.031496156170032916\n",
      "Epoch: 32, Batch: 240, Avg. Loss: 0.021851481148041786\n",
      "Epoch: 32, Batch: 280, Avg. Loss: 0.03437368243467063\n",
      "Epoch: 32, Batch: 320, Avg. Loss: 0.026595045742578805\n"
     ]
    },
    {
     "name": "stderr",
     "output_type": "stream",
     "text": [
      "/home/jair/CVND-udacity/P1_Facial_Keypoints/data_load.py:39: FutureWarning: Method .as_matrix will be removed in a future version. Use .values instead.\n",
      "  key_pts = self.key_pts_frame.iloc[idx, 1:].as_matrix()\n",
      "/home/jair/CVND-udacity/P1_Facial_Keypoints/data_load.py:39: FutureWarning: Method .as_matrix will be removed in a future version. Use .values instead.\n",
      "  key_pts = self.key_pts_frame.iloc[idx, 1:].as_matrix()\n",
      "/home/jair/CVND-udacity/P1_Facial_Keypoints/data_load.py:39: FutureWarning: Method .as_matrix will be removed in a future version. Use .values instead.\n",
      "  key_pts = self.key_pts_frame.iloc[idx, 1:].as_matrix()\n",
      "/home/jair/CVND-udacity/P1_Facial_Keypoints/data_load.py:39: FutureWarning: Method .as_matrix will be removed in a future version. Use .values instead.\n",
      "  key_pts = self.key_pts_frame.iloc[idx, 1:].as_matrix()\n"
     ]
    },
    {
     "name": "stdout",
     "output_type": "stream",
     "text": [
      "Epoch: 33, Batch: 40, Avg. Loss: 0.024650403182022274\n",
      "Epoch: 33, Batch: 80, Avg. Loss: 0.017380756232887505\n",
      "Epoch: 33, Batch: 120, Avg. Loss: 0.021430544019676746\n",
      "Epoch: 33, Batch: 160, Avg. Loss: 0.031107414700090884\n",
      "Epoch: 33, Batch: 200, Avg. Loss: 0.031679134699516\n",
      "Epoch: 33, Batch: 240, Avg. Loss: 0.020889698551036416\n",
      "Epoch: 33, Batch: 280, Avg. Loss: 0.022526679979637265\n",
      "Epoch: 33, Batch: 320, Avg. Loss: 0.021652952395379545\n"
     ]
    },
    {
     "name": "stderr",
     "output_type": "stream",
     "text": [
      "/home/jair/CVND-udacity/P1_Facial_Keypoints/data_load.py:39: FutureWarning: Method .as_matrix will be removed in a future version. Use .values instead.\n",
      "  key_pts = self.key_pts_frame.iloc[idx, 1:].as_matrix()\n",
      "/home/jair/CVND-udacity/P1_Facial_Keypoints/data_load.py:39: FutureWarning: Method .as_matrix will be removed in a future version. Use .values instead.\n",
      "  key_pts = self.key_pts_frame.iloc[idx, 1:].as_matrix()\n",
      "/home/jair/CVND-udacity/P1_Facial_Keypoints/data_load.py:39: FutureWarning: Method .as_matrix will be removed in a future version. Use .values instead.\n",
      "  key_pts = self.key_pts_frame.iloc[idx, 1:].as_matrix()\n",
      "/home/jair/CVND-udacity/P1_Facial_Keypoints/data_load.py:39: FutureWarning: Method .as_matrix will be removed in a future version. Use .values instead.\n",
      "  key_pts = self.key_pts_frame.iloc[idx, 1:].as_matrix()\n"
     ]
    },
    {
     "name": "stdout",
     "output_type": "stream",
     "text": [
      "Epoch: 34, Batch: 40, Avg. Loss: 0.022288673743605613\n",
      "Epoch: 34, Batch: 80, Avg. Loss: 0.02134523105341941\n",
      "Epoch: 34, Batch: 120, Avg. Loss: 0.016137844626791777\n",
      "Epoch: 34, Batch: 160, Avg. Loss: 0.017213819664902985\n",
      "Epoch: 34, Batch: 200, Avg. Loss: 0.017719825997482987\n",
      "Epoch: 34, Batch: 240, Avg. Loss: 0.01657598651945591\n",
      "Epoch: 34, Batch: 280, Avg. Loss: 0.01559443660080433\n",
      "Epoch: 34, Batch: 320, Avg. Loss: 0.022438460460398345\n"
     ]
    },
    {
     "name": "stderr",
     "output_type": "stream",
     "text": [
      "/home/jair/CVND-udacity/P1_Facial_Keypoints/data_load.py:39: FutureWarning: Method .as_matrix will be removed in a future version. Use .values instead.\n",
      "  key_pts = self.key_pts_frame.iloc[idx, 1:].as_matrix()\n",
      "/home/jair/CVND-udacity/P1_Facial_Keypoints/data_load.py:39: FutureWarning: Method .as_matrix will be removed in a future version. Use .values instead.\n",
      "  key_pts = self.key_pts_frame.iloc[idx, 1:].as_matrix()\n",
      "/home/jair/CVND-udacity/P1_Facial_Keypoints/data_load.py:39: FutureWarning: Method .as_matrix will be removed in a future version. Use .values instead.\n",
      "  key_pts = self.key_pts_frame.iloc[idx, 1:].as_matrix()\n",
      "/home/jair/CVND-udacity/P1_Facial_Keypoints/data_load.py:39: FutureWarning: Method .as_matrix will be removed in a future version. Use .values instead.\n",
      "  key_pts = self.key_pts_frame.iloc[idx, 1:].as_matrix()\n"
     ]
    },
    {
     "name": "stdout",
     "output_type": "stream",
     "text": [
      "Epoch: 35, Batch: 40, Avg. Loss: 0.017085835547186436\n",
      "Epoch: 35, Batch: 80, Avg. Loss: 0.01577139168512076\n",
      "Epoch: 35, Batch: 120, Avg. Loss: 0.02022768589667976\n",
      "Epoch: 35, Batch: 160, Avg. Loss: 0.02120102697517723\n",
      "Epoch: 35, Batch: 200, Avg. Loss: 0.015282434225082398\n",
      "Epoch: 35, Batch: 240, Avg. Loss: 0.015453992318361998\n",
      "Epoch: 35, Batch: 280, Avg. Loss: 0.012955751689150929\n",
      "Epoch: 35, Batch: 320, Avg. Loss: 0.02844855273142457\n"
     ]
    },
    {
     "name": "stderr",
     "output_type": "stream",
     "text": [
      "/home/jair/CVND-udacity/P1_Facial_Keypoints/data_load.py:39: FutureWarning: Method .as_matrix will be removed in a future version. Use .values instead.\n",
      "  key_pts = self.key_pts_frame.iloc[idx, 1:].as_matrix()\n",
      "/home/jair/CVND-udacity/P1_Facial_Keypoints/data_load.py:39: FutureWarning: Method .as_matrix will be removed in a future version. Use .values instead.\n",
      "  key_pts = self.key_pts_frame.iloc[idx, 1:].as_matrix()\n",
      "/home/jair/CVND-udacity/P1_Facial_Keypoints/data_load.py:39: FutureWarning: Method .as_matrix will be removed in a future version. Use .values instead.\n",
      "  key_pts = self.key_pts_frame.iloc[idx, 1:].as_matrix()\n",
      "/home/jair/CVND-udacity/P1_Facial_Keypoints/data_load.py:39: FutureWarning: Method .as_matrix will be removed in a future version. Use .values instead.\n",
      "  key_pts = self.key_pts_frame.iloc[idx, 1:].as_matrix()\n"
     ]
    },
    {
     "name": "stdout",
     "output_type": "stream",
     "text": [
      "Epoch: 36, Batch: 40, Avg. Loss: 0.018783862818963826\n",
      "Epoch: 36, Batch: 80, Avg. Loss: 0.016190518834628166\n",
      "Epoch: 36, Batch: 120, Avg. Loss: 0.018083900259807707\n",
      "Epoch: 36, Batch: 160, Avg. Loss: 0.01528595113195479\n",
      "Epoch: 36, Batch: 200, Avg. Loss: 0.01643597602378577\n",
      "Epoch: 36, Batch: 240, Avg. Loss: 0.032423495198599994\n",
      "Epoch: 36, Batch: 280, Avg. Loss: 0.01875389835331589\n",
      "Epoch: 36, Batch: 320, Avg. Loss: 0.02186586365569383\n"
     ]
    },
    {
     "name": "stderr",
     "output_type": "stream",
     "text": [
      "/home/jair/CVND-udacity/P1_Facial_Keypoints/data_load.py:39: FutureWarning: Method .as_matrix will be removed in a future version. Use .values instead.\n",
      "  key_pts = self.key_pts_frame.iloc[idx, 1:].as_matrix()\n",
      "/home/jair/CVND-udacity/P1_Facial_Keypoints/data_load.py:39: FutureWarning: Method .as_matrix will be removed in a future version. Use .values instead.\n",
      "  key_pts = self.key_pts_frame.iloc[idx, 1:].as_matrix()\n",
      "/home/jair/CVND-udacity/P1_Facial_Keypoints/data_load.py:39: FutureWarning: Method .as_matrix will be removed in a future version. Use .values instead.\n",
      "  key_pts = self.key_pts_frame.iloc[idx, 1:].as_matrix()\n",
      "/home/jair/CVND-udacity/P1_Facial_Keypoints/data_load.py:39: FutureWarning: Method .as_matrix will be removed in a future version. Use .values instead.\n",
      "  key_pts = self.key_pts_frame.iloc[idx, 1:].as_matrix()\n"
     ]
    },
    {
     "name": "stdout",
     "output_type": "stream",
     "text": [
      "Epoch: 37, Batch: 40, Avg. Loss: 0.023918739543296395\n",
      "Epoch: 37, Batch: 80, Avg. Loss: 0.015272341924719513\n",
      "Epoch: 37, Batch: 120, Avg. Loss: 0.028632838709745555\n",
      "Epoch: 37, Batch: 160, Avg. Loss: 0.026382804196327925\n",
      "Epoch: 37, Batch: 200, Avg. Loss: 0.018795357667841017\n",
      "Epoch: 37, Batch: 240, Avg. Loss: 0.02902845637872815\n",
      "Epoch: 37, Batch: 280, Avg. Loss: 0.042487400211393835\n",
      "Epoch: 37, Batch: 320, Avg. Loss: 0.06627709656022489\n"
     ]
    },
    {
     "name": "stderr",
     "output_type": "stream",
     "text": [
      "/home/jair/CVND-udacity/P1_Facial_Keypoints/data_load.py:39: FutureWarning: Method .as_matrix will be removed in a future version. Use .values instead.\n",
      "  key_pts = self.key_pts_frame.iloc[idx, 1:].as_matrix()\n",
      "/home/jair/CVND-udacity/P1_Facial_Keypoints/data_load.py:39: FutureWarning: Method .as_matrix will be removed in a future version. Use .values instead.\n",
      "  key_pts = self.key_pts_frame.iloc[idx, 1:].as_matrix()\n",
      "/home/jair/CVND-udacity/P1_Facial_Keypoints/data_load.py:39: FutureWarning: Method .as_matrix will be removed in a future version. Use .values instead.\n",
      "  key_pts = self.key_pts_frame.iloc[idx, 1:].as_matrix()\n",
      "/home/jair/CVND-udacity/P1_Facial_Keypoints/data_load.py:39: FutureWarning: Method .as_matrix will be removed in a future version. Use .values instead.\n",
      "  key_pts = self.key_pts_frame.iloc[idx, 1:].as_matrix()\n"
     ]
    },
    {
     "name": "stdout",
     "output_type": "stream",
     "text": [
      "Epoch: 38, Batch: 40, Avg. Loss: 0.028097856207750738\n",
      "Epoch: 38, Batch: 80, Avg. Loss: 0.02752855238504708\n",
      "Epoch: 38, Batch: 120, Avg. Loss: 0.02018726107198745\n",
      "Epoch: 38, Batch: 160, Avg. Loss: 0.030356965563260018\n",
      "Epoch: 38, Batch: 200, Avg. Loss: 0.022979692765511574\n",
      "Epoch: 38, Batch: 240, Avg. Loss: 0.037245135148987175\n",
      "Epoch: 38, Batch: 280, Avg. Loss: 0.021499505708925427\n",
      "Epoch: 38, Batch: 320, Avg. Loss: 0.024848989234305917\n"
     ]
    },
    {
     "name": "stderr",
     "output_type": "stream",
     "text": [
      "/home/jair/CVND-udacity/P1_Facial_Keypoints/data_load.py:39: FutureWarning: Method .as_matrix will be removed in a future version. Use .values instead.\n",
      "  key_pts = self.key_pts_frame.iloc[idx, 1:].as_matrix()\n",
      "/home/jair/CVND-udacity/P1_Facial_Keypoints/data_load.py:39: FutureWarning: Method .as_matrix will be removed in a future version. Use .values instead.\n",
      "  key_pts = self.key_pts_frame.iloc[idx, 1:].as_matrix()\n",
      "/home/jair/CVND-udacity/P1_Facial_Keypoints/data_load.py:39: FutureWarning: Method .as_matrix will be removed in a future version. Use .values instead.\n",
      "  key_pts = self.key_pts_frame.iloc[idx, 1:].as_matrix()\n",
      "/home/jair/CVND-udacity/P1_Facial_Keypoints/data_load.py:39: FutureWarning: Method .as_matrix will be removed in a future version. Use .values instead.\n",
      "  key_pts = self.key_pts_frame.iloc[idx, 1:].as_matrix()\n"
     ]
    },
    {
     "name": "stdout",
     "output_type": "stream",
     "text": [
      "Epoch: 39, Batch: 40, Avg. Loss: 0.01727517138933763\n",
      "Epoch: 39, Batch: 80, Avg. Loss: 0.018837938364595175\n",
      "Epoch: 39, Batch: 120, Avg. Loss: 0.02497007467318326\n",
      "Epoch: 39, Batch: 160, Avg. Loss: 0.03487423129845411\n",
      "Epoch: 39, Batch: 200, Avg. Loss: 0.024202169827185573\n",
      "Epoch: 39, Batch: 240, Avg. Loss: 0.01763232992962003\n",
      "Epoch: 39, Batch: 280, Avg. Loss: 0.029446875327266753\n",
      "Epoch: 39, Batch: 320, Avg. Loss: 0.01815783539786935\n"
     ]
    },
    {
     "name": "stderr",
     "output_type": "stream",
     "text": [
      "/home/jair/CVND-udacity/P1_Facial_Keypoints/data_load.py:39: FutureWarning: Method .as_matrix will be removed in a future version. Use .values instead.\n",
      "  key_pts = self.key_pts_frame.iloc[idx, 1:].as_matrix()\n",
      "/home/jair/CVND-udacity/P1_Facial_Keypoints/data_load.py:39: FutureWarning: Method .as_matrix will be removed in a future version. Use .values instead.\n",
      "  key_pts = self.key_pts_frame.iloc[idx, 1:].as_matrix()\n",
      "/home/jair/CVND-udacity/P1_Facial_Keypoints/data_load.py:39: FutureWarning: Method .as_matrix will be removed in a future version. Use .values instead.\n",
      "  key_pts = self.key_pts_frame.iloc[idx, 1:].as_matrix()\n",
      "/home/jair/CVND-udacity/P1_Facial_Keypoints/data_load.py:39: FutureWarning: Method .as_matrix will be removed in a future version. Use .values instead.\n",
      "  key_pts = self.key_pts_frame.iloc[idx, 1:].as_matrix()\n"
     ]
    },
    {
     "name": "stdout",
     "output_type": "stream",
     "text": [
      "Epoch: 40, Batch: 40, Avg. Loss: 0.02456493319477886\n",
      "Epoch: 40, Batch: 80, Avg. Loss: 0.016413678391836585\n",
      "Epoch: 40, Batch: 120, Avg. Loss: 0.015194850950501859\n",
      "Epoch: 40, Batch: 160, Avg. Loss: 0.02175182362552732\n",
      "Epoch: 40, Batch: 200, Avg. Loss: 0.016134994523599743\n",
      "Epoch: 40, Batch: 240, Avg. Loss: 0.015323626343160868\n",
      "Epoch: 40, Batch: 280, Avg. Loss: 0.014828529371879996\n",
      "Epoch: 40, Batch: 320, Avg. Loss: 0.018243335629813374\n"
     ]
    },
    {
     "name": "stderr",
     "output_type": "stream",
     "text": [
      "/home/jair/CVND-udacity/P1_Facial_Keypoints/data_load.py:39: FutureWarning: Method .as_matrix will be removed in a future version. Use .values instead.\n",
      "  key_pts = self.key_pts_frame.iloc[idx, 1:].as_matrix()\n",
      "/home/jair/CVND-udacity/P1_Facial_Keypoints/data_load.py:39: FutureWarning: Method .as_matrix will be removed in a future version. Use .values instead.\n",
      "  key_pts = self.key_pts_frame.iloc[idx, 1:].as_matrix()\n",
      "/home/jair/CVND-udacity/P1_Facial_Keypoints/data_load.py:39: FutureWarning: Method .as_matrix will be removed in a future version. Use .values instead.\n",
      "  key_pts = self.key_pts_frame.iloc[idx, 1:].as_matrix()\n",
      "/home/jair/CVND-udacity/P1_Facial_Keypoints/data_load.py:39: FutureWarning: Method .as_matrix will be removed in a future version. Use .values instead.\n",
      "  key_pts = self.key_pts_frame.iloc[idx, 1:].as_matrix()\n"
     ]
    },
    {
     "name": "stdout",
     "output_type": "stream",
     "text": [
      "Epoch: 41, Batch: 40, Avg. Loss: 0.013523900066502392\n",
      "Epoch: 41, Batch: 80, Avg. Loss: 0.013360708917025477\n",
      "Epoch: 41, Batch: 120, Avg. Loss: 0.012864620552863925\n",
      "Epoch: 41, Batch: 160, Avg. Loss: 0.013646128587424755\n",
      "Epoch: 41, Batch: 200, Avg. Loss: 0.01309060628991574\n",
      "Epoch: 41, Batch: 240, Avg. Loss: 0.021999264881014825\n",
      "Epoch: 41, Batch: 280, Avg. Loss: 0.015568590513430536\n",
      "Epoch: 41, Batch: 320, Avg. Loss: 0.019893004558980465\n"
     ]
    },
    {
     "name": "stderr",
     "output_type": "stream",
     "text": [
      "/home/jair/CVND-udacity/P1_Facial_Keypoints/data_load.py:39: FutureWarning: Method .as_matrix will be removed in a future version. Use .values instead.\n",
      "  key_pts = self.key_pts_frame.iloc[idx, 1:].as_matrix()\n",
      "/home/jair/CVND-udacity/P1_Facial_Keypoints/data_load.py:39: FutureWarning: Method .as_matrix will be removed in a future version. Use .values instead.\n",
      "  key_pts = self.key_pts_frame.iloc[idx, 1:].as_matrix()\n",
      "/home/jair/CVND-udacity/P1_Facial_Keypoints/data_load.py:39: FutureWarning: Method .as_matrix will be removed in a future version. Use .values instead.\n",
      "  key_pts = self.key_pts_frame.iloc[idx, 1:].as_matrix()\n",
      "/home/jair/CVND-udacity/P1_Facial_Keypoints/data_load.py:39: FutureWarning: Method .as_matrix will be removed in a future version. Use .values instead.\n",
      "  key_pts = self.key_pts_frame.iloc[idx, 1:].as_matrix()\n"
     ]
    },
    {
     "name": "stdout",
     "output_type": "stream",
     "text": [
      "Epoch: 42, Batch: 40, Avg. Loss: 0.06100097397575155\n",
      "Epoch: 42, Batch: 80, Avg. Loss: 0.0492587688844651\n",
      "Epoch: 42, Batch: 120, Avg. Loss: 0.02951147323474288\n",
      "Epoch: 42, Batch: 160, Avg. Loss: 0.024258519452996553\n",
      "Epoch: 42, Batch: 200, Avg. Loss: 0.032219005981460214\n",
      "Epoch: 42, Batch: 240, Avg. Loss: 0.02611348011996597\n",
      "Epoch: 42, Batch: 280, Avg. Loss: 0.023729446192737667\n",
      "Epoch: 42, Batch: 320, Avg. Loss: 0.018448079470545053\n"
     ]
    },
    {
     "name": "stderr",
     "output_type": "stream",
     "text": [
      "/home/jair/CVND-udacity/P1_Facial_Keypoints/data_load.py:39: FutureWarning: Method .as_matrix will be removed in a future version. Use .values instead.\n",
      "  key_pts = self.key_pts_frame.iloc[idx, 1:].as_matrix()\n",
      "/home/jair/CVND-udacity/P1_Facial_Keypoints/data_load.py:39: FutureWarning: Method .as_matrix will be removed in a future version. Use .values instead.\n",
      "  key_pts = self.key_pts_frame.iloc[idx, 1:].as_matrix()\n",
      "/home/jair/CVND-udacity/P1_Facial_Keypoints/data_load.py:39: FutureWarning: Method .as_matrix will be removed in a future version. Use .values instead.\n",
      "  key_pts = self.key_pts_frame.iloc[idx, 1:].as_matrix()\n",
      "/home/jair/CVND-udacity/P1_Facial_Keypoints/data_load.py:39: FutureWarning: Method .as_matrix will be removed in a future version. Use .values instead.\n",
      "  key_pts = self.key_pts_frame.iloc[idx, 1:].as_matrix()\n"
     ]
    },
    {
     "name": "stdout",
     "output_type": "stream",
     "text": [
      "Epoch: 43, Batch: 40, Avg. Loss: 0.0352855320321396\n",
      "Epoch: 43, Batch: 80, Avg. Loss: 0.019092820095829667\n",
      "Epoch: 43, Batch: 120, Avg. Loss: 0.030107033229433\n",
      "Epoch: 43, Batch: 160, Avg. Loss: 0.021304319193586708\n",
      "Epoch: 43, Batch: 200, Avg. Loss: 0.018381382385268808\n",
      "Epoch: 43, Batch: 240, Avg. Loss: 0.016607226547785105\n",
      "Epoch: 43, Batch: 280, Avg. Loss: 0.042101462255232036\n",
      "Epoch: 43, Batch: 320, Avg. Loss: 0.01982030679937452\n"
     ]
    },
    {
     "name": "stderr",
     "output_type": "stream",
     "text": [
      "/home/jair/CVND-udacity/P1_Facial_Keypoints/data_load.py:39: FutureWarning: Method .as_matrix will be removed in a future version. Use .values instead.\n",
      "  key_pts = self.key_pts_frame.iloc[idx, 1:].as_matrix()\n",
      "/home/jair/CVND-udacity/P1_Facial_Keypoints/data_load.py:39: FutureWarning: Method .as_matrix will be removed in a future version. Use .values instead.\n",
      "  key_pts = self.key_pts_frame.iloc[idx, 1:].as_matrix()\n",
      "/home/jair/CVND-udacity/P1_Facial_Keypoints/data_load.py:39: FutureWarning: Method .as_matrix will be removed in a future version. Use .values instead.\n",
      "  key_pts = self.key_pts_frame.iloc[idx, 1:].as_matrix()\n",
      "/home/jair/CVND-udacity/P1_Facial_Keypoints/data_load.py:39: FutureWarning: Method .as_matrix will be removed in a future version. Use .values instead.\n",
      "  key_pts = self.key_pts_frame.iloc[idx, 1:].as_matrix()\n"
     ]
    },
    {
     "name": "stdout",
     "output_type": "stream",
     "text": [
      "Epoch: 44, Batch: 40, Avg. Loss: 0.0199938423698768\n",
      "Epoch: 44, Batch: 80, Avg. Loss: 0.0166727177798748\n",
      "Epoch: 44, Batch: 120, Avg. Loss: 0.014168994454666971\n",
      "Epoch: 44, Batch: 160, Avg. Loss: 0.015594143769703805\n",
      "Epoch: 44, Batch: 200, Avg. Loss: 0.014915574504993857\n",
      "Epoch: 44, Batch: 240, Avg. Loss: 0.015272256615571678\n",
      "Epoch: 44, Batch: 280, Avg. Loss: 0.013840830279514193\n",
      "Epoch: 44, Batch: 320, Avg. Loss: 0.031641693122219296\n"
     ]
    },
    {
     "name": "stderr",
     "output_type": "stream",
     "text": [
      "/home/jair/CVND-udacity/P1_Facial_Keypoints/data_load.py:39: FutureWarning: Method .as_matrix will be removed in a future version. Use .values instead.\n",
      "  key_pts = self.key_pts_frame.iloc[idx, 1:].as_matrix()\n",
      "/home/jair/CVND-udacity/P1_Facial_Keypoints/data_load.py:39: FutureWarning: Method .as_matrix will be removed in a future version. Use .values instead.\n",
      "  key_pts = self.key_pts_frame.iloc[idx, 1:].as_matrix()\n",
      "/home/jair/CVND-udacity/P1_Facial_Keypoints/data_load.py:39: FutureWarning: Method .as_matrix will be removed in a future version. Use .values instead.\n",
      "  key_pts = self.key_pts_frame.iloc[idx, 1:].as_matrix()\n",
      "/home/jair/CVND-udacity/P1_Facial_Keypoints/data_load.py:39: FutureWarning: Method .as_matrix will be removed in a future version. Use .values instead.\n",
      "  key_pts = self.key_pts_frame.iloc[idx, 1:].as_matrix()\n"
     ]
    },
    {
     "name": "stdout",
     "output_type": "stream",
     "text": [
      "Epoch: 45, Batch: 40, Avg. Loss: 0.018162038968876006\n",
      "Epoch: 45, Batch: 80, Avg. Loss: 0.015969266300089657\n",
      "Epoch: 45, Batch: 120, Avg. Loss: 0.01585883947554976\n",
      "Epoch: 45, Batch: 160, Avg. Loss: 0.013356803765054793\n",
      "Epoch: 45, Batch: 200, Avg. Loss: 0.027042874740436672\n",
      "Epoch: 45, Batch: 240, Avg. Loss: 0.020988086657598614\n",
      "Epoch: 45, Batch: 280, Avg. Loss: 0.02701769343111664\n",
      "Epoch: 45, Batch: 320, Avg. Loss: 0.01840996197424829\n"
     ]
    },
    {
     "name": "stderr",
     "output_type": "stream",
     "text": [
      "/home/jair/CVND-udacity/P1_Facial_Keypoints/data_load.py:39: FutureWarning: Method .as_matrix will be removed in a future version. Use .values instead.\n",
      "  key_pts = self.key_pts_frame.iloc[idx, 1:].as_matrix()\n",
      "/home/jair/CVND-udacity/P1_Facial_Keypoints/data_load.py:39: FutureWarning: Method .as_matrix will be removed in a future version. Use .values instead.\n",
      "  key_pts = self.key_pts_frame.iloc[idx, 1:].as_matrix()\n",
      "/home/jair/CVND-udacity/P1_Facial_Keypoints/data_load.py:39: FutureWarning: Method .as_matrix will be removed in a future version. Use .values instead.\n",
      "  key_pts = self.key_pts_frame.iloc[idx, 1:].as_matrix()\n",
      "/home/jair/CVND-udacity/P1_Facial_Keypoints/data_load.py:39: FutureWarning: Method .as_matrix will be removed in a future version. Use .values instead.\n",
      "  key_pts = self.key_pts_frame.iloc[idx, 1:].as_matrix()\n"
     ]
    },
    {
     "name": "stdout",
     "output_type": "stream",
     "text": [
      "Epoch: 46, Batch: 40, Avg. Loss: 0.023165672877803446\n",
      "Epoch: 46, Batch: 80, Avg. Loss: 0.023368094116449356\n",
      "Epoch: 46, Batch: 120, Avg. Loss: 0.01603277256945148\n",
      "Epoch: 46, Batch: 160, Avg. Loss: 0.01729300057049841\n",
      "Epoch: 46, Batch: 200, Avg. Loss: 0.014283683663234115\n",
      "Epoch: 46, Batch: 240, Avg. Loss: 0.01815678336424753\n",
      "Epoch: 46, Batch: 280, Avg. Loss: 0.014973686658777297\n",
      "Epoch: 46, Batch: 320, Avg. Loss: 0.012795068067498505\n"
     ]
    },
    {
     "name": "stderr",
     "output_type": "stream",
     "text": [
      "/home/jair/CVND-udacity/P1_Facial_Keypoints/data_load.py:39: FutureWarning: Method .as_matrix will be removed in a future version. Use .values instead.\n",
      "  key_pts = self.key_pts_frame.iloc[idx, 1:].as_matrix()\n",
      "/home/jair/CVND-udacity/P1_Facial_Keypoints/data_load.py:39: FutureWarning: Method .as_matrix will be removed in a future version. Use .values instead.\n",
      "  key_pts = self.key_pts_frame.iloc[idx, 1:].as_matrix()\n",
      "/home/jair/CVND-udacity/P1_Facial_Keypoints/data_load.py:39: FutureWarning: Method .as_matrix will be removed in a future version. Use .values instead.\n",
      "  key_pts = self.key_pts_frame.iloc[idx, 1:].as_matrix()\n",
      "/home/jair/CVND-udacity/P1_Facial_Keypoints/data_load.py:39: FutureWarning: Method .as_matrix will be removed in a future version. Use .values instead.\n",
      "  key_pts = self.key_pts_frame.iloc[idx, 1:].as_matrix()\n"
     ]
    },
    {
     "name": "stdout",
     "output_type": "stream",
     "text": [
      "Epoch: 47, Batch: 40, Avg. Loss: 0.013673675851896406\n",
      "Epoch: 47, Batch: 80, Avg. Loss: 0.06913006042595952\n",
      "Epoch: 47, Batch: 120, Avg. Loss: 0.042378287808969614\n",
      "Epoch: 47, Batch: 160, Avg. Loss: 0.021768747246824205\n",
      "Epoch: 47, Batch: 200, Avg. Loss: 0.019290776865091175\n",
      "Epoch: 47, Batch: 240, Avg. Loss: 0.017975896364077926\n",
      "Epoch: 47, Batch: 280, Avg. Loss: 0.015938112512230873\n",
      "Epoch: 47, Batch: 320, Avg. Loss: 0.01467881326097995\n"
     ]
    },
    {
     "name": "stderr",
     "output_type": "stream",
     "text": [
      "/home/jair/CVND-udacity/P1_Facial_Keypoints/data_load.py:39: FutureWarning: Method .as_matrix will be removed in a future version. Use .values instead.\n",
      "  key_pts = self.key_pts_frame.iloc[idx, 1:].as_matrix()\n",
      "/home/jair/CVND-udacity/P1_Facial_Keypoints/data_load.py:39: FutureWarning: Method .as_matrix will be removed in a future version. Use .values instead.\n",
      "  key_pts = self.key_pts_frame.iloc[idx, 1:].as_matrix()\n",
      "/home/jair/CVND-udacity/P1_Facial_Keypoints/data_load.py:39: FutureWarning: Method .as_matrix will be removed in a future version. Use .values instead.\n",
      "  key_pts = self.key_pts_frame.iloc[idx, 1:].as_matrix()\n",
      "/home/jair/CVND-udacity/P1_Facial_Keypoints/data_load.py:39: FutureWarning: Method .as_matrix will be removed in a future version. Use .values instead.\n",
      "  key_pts = self.key_pts_frame.iloc[idx, 1:].as_matrix()\n"
     ]
    },
    {
     "name": "stdout",
     "output_type": "stream",
     "text": [
      "Epoch: 48, Batch: 40, Avg. Loss: 0.016077038645744324\n",
      "Epoch: 48, Batch: 80, Avg. Loss: 0.03518762229941785\n",
      "Epoch: 48, Batch: 120, Avg. Loss: 0.02016619467176497\n",
      "Epoch: 48, Batch: 160, Avg. Loss: 0.01814935770817101\n",
      "Epoch: 48, Batch: 200, Avg. Loss: 0.01546239402377978\n",
      "Epoch: 48, Batch: 240, Avg. Loss: 0.017341077141463757\n",
      "Epoch: 48, Batch: 280, Avg. Loss: 0.027839400165248662\n",
      "Epoch: 48, Batch: 320, Avg. Loss: 0.019482654717285185\n"
     ]
    },
    {
     "name": "stderr",
     "output_type": "stream",
     "text": [
      "/home/jair/CVND-udacity/P1_Facial_Keypoints/data_load.py:39: FutureWarning: Method .as_matrix will be removed in a future version. Use .values instead.\n",
      "  key_pts = self.key_pts_frame.iloc[idx, 1:].as_matrix()\n",
      "/home/jair/CVND-udacity/P1_Facial_Keypoints/data_load.py:39: FutureWarning: Method .as_matrix will be removed in a future version. Use .values instead.\n",
      "  key_pts = self.key_pts_frame.iloc[idx, 1:].as_matrix()\n",
      "/home/jair/CVND-udacity/P1_Facial_Keypoints/data_load.py:39: FutureWarning: Method .as_matrix will be removed in a future version. Use .values instead.\n",
      "  key_pts = self.key_pts_frame.iloc[idx, 1:].as_matrix()\n",
      "/home/jair/CVND-udacity/P1_Facial_Keypoints/data_load.py:39: FutureWarning: Method .as_matrix will be removed in a future version. Use .values instead.\n",
      "  key_pts = self.key_pts_frame.iloc[idx, 1:].as_matrix()\n"
     ]
    },
    {
     "name": "stdout",
     "output_type": "stream",
     "text": [
      "Epoch: 49, Batch: 40, Avg. Loss: 0.02042733384296298\n",
      "Epoch: 49, Batch: 80, Avg. Loss: 0.0248878006124869\n",
      "Epoch: 49, Batch: 120, Avg. Loss: 0.024620955483987926\n",
      "Epoch: 49, Batch: 160, Avg. Loss: 0.023656599572859704\n",
      "Epoch: 49, Batch: 200, Avg. Loss: 0.029304892336949707\n",
      "Epoch: 49, Batch: 240, Avg. Loss: 0.01994802071712911\n",
      "Epoch: 49, Batch: 280, Avg. Loss: 0.029551413853187113\n",
      "Epoch: 49, Batch: 320, Avg. Loss: 0.024562416202388703\n"
     ]
    },
    {
     "name": "stderr",
     "output_type": "stream",
     "text": [
      "/home/jair/CVND-udacity/P1_Facial_Keypoints/data_load.py:39: FutureWarning: Method .as_matrix will be removed in a future version. Use .values instead.\n",
      "  key_pts = self.key_pts_frame.iloc[idx, 1:].as_matrix()\n",
      "/home/jair/CVND-udacity/P1_Facial_Keypoints/data_load.py:39: FutureWarning: Method .as_matrix will be removed in a future version. Use .values instead.\n",
      "  key_pts = self.key_pts_frame.iloc[idx, 1:].as_matrix()\n",
      "/home/jair/CVND-udacity/P1_Facial_Keypoints/data_load.py:39: FutureWarning: Method .as_matrix will be removed in a future version. Use .values instead.\n",
      "  key_pts = self.key_pts_frame.iloc[idx, 1:].as_matrix()\n",
      "/home/jair/CVND-udacity/P1_Facial_Keypoints/data_load.py:39: FutureWarning: Method .as_matrix will be removed in a future version. Use .values instead.\n",
      "  key_pts = self.key_pts_frame.iloc[idx, 1:].as_matrix()\n"
     ]
    },
    {
     "name": "stdout",
     "output_type": "stream",
     "text": [
      "Epoch: 50, Batch: 40, Avg. Loss: 0.0195545808179304\n",
      "Epoch: 50, Batch: 80, Avg. Loss: 0.019838343851733952\n",
      "Epoch: 50, Batch: 120, Avg. Loss: 0.019824073649942875\n",
      "Epoch: 50, Batch: 160, Avg. Loss: 0.017357305414043366\n",
      "Epoch: 50, Batch: 200, Avg. Loss: 0.016020554001443088\n",
      "Epoch: 50, Batch: 240, Avg. Loss: 0.08343374761752784\n",
      "Epoch: 50, Batch: 280, Avg. Loss: 0.02509281502570957\n",
      "Epoch: 50, Batch: 320, Avg. Loss: 0.07787391301244498\n",
      "Finished Training\n"
     ]
    }
   ],
   "source": [
    "# train your network\n",
    "n_epochs = 50 # start small, and increase when you've decided on your model structure and hyperparams\n",
    "\n",
    "train_net(n_epochs)"
   ]
  },
  {
   "cell_type": "code",
   "execution_count": null,
   "metadata": {},
   "outputs": [],
   "source": []
  },
  {
   "cell_type": "markdown",
   "metadata": {},
   "source": [
    "## Test data\n",
    "\n",
    "See how your model performs on previously unseen, test data. We've already loaded and transformed this data, similar to the training data. Next, run your trained model on these images to see what kind of keypoints are produced. You should be able to see if your model is fitting each new face it sees, if the points are distributed randomly, or if the points have actually overfitted the training data and do not generalize."
   ]
  },
  {
   "cell_type": "code",
   "execution_count": 23,
   "metadata": {},
   "outputs": [
    {
     "name": "stderr",
     "output_type": "stream",
     "text": [
      "/home/jair/CVND-udacity/P1_Facial_Keypoints/data_load.py:39: FutureWarning: Method .as_matrix will be removed in a future version. Use .values instead.\n",
      "  key_pts = self.key_pts_frame.iloc[idx, 1:].as_matrix()\n",
      "/home/jair/CVND-udacity/P1_Facial_Keypoints/data_load.py:39: FutureWarning: Method .as_matrix will be removed in a future version. Use .values instead.\n",
      "  key_pts = self.key_pts_frame.iloc[idx, 1:].as_matrix()\n",
      "/home/jair/CVND-udacity/P1_Facial_Keypoints/data_load.py:39: FutureWarning: Method .as_matrix will be removed in a future version. Use .values instead.\n",
      "  key_pts = self.key_pts_frame.iloc[idx, 1:].as_matrix()\n",
      "/home/jair/CVND-udacity/P1_Facial_Keypoints/data_load.py:39: FutureWarning: Method .as_matrix will be removed in a future version. Use .values instead.\n",
      "  key_pts = self.key_pts_frame.iloc[idx, 1:].as_matrix()\n"
     ]
    },
    {
     "name": "stdout",
     "output_type": "stream",
     "text": [
      "torch.Size([10, 1, 224, 224])\n",
      "torch.Size([10, 68, 2])\n",
      "torch.Size([10, 68, 2])\n"
     ]
    }
   ],
   "source": [
    "# get a sample of test data again\n",
    "test_images, test_outputs, gt_pts = net_sample_output()\n",
    "\n",
    "print(test_images.data.size())\n",
    "print(test_outputs.data.size())\n",
    "print(gt_pts.size())"
   ]
  },
  {
   "cell_type": "code",
   "execution_count": 20,
   "metadata": {
    "scrolled": true
   },
   "outputs": [
    {
     "data": {
      "image/png": "[encoded data removed]",
      "text/plain": [
       "<Figure size 1440x720 with 1 Axes>"
      ]
     },
     "metadata": {},
     "output_type": "display_data"
    },
    {
     "data": {
      "image/png": "[encoded data removed]",
      "text/plain": [
       "<Figure size 1440x720 with 1 Axes>"
      ]
     },
     "metadata": {},
     "output_type": "display_data"
    },
    {
     "data": {
      "image/png": "[encoded data removed]",
      "text/plain": [
       "<Figure size 1440x720 with 1 Axes>"
      ]
     },
     "metadata": {},
     "output_type": "display_data"
    },
    {
     "data": {
      "image/png": "[encoded data removed]",
      "text/plain": [
       "<Figure size 1440x720 with 1 Axes>"
      ]
     },
     "metadata": {},
     "output_type": "display_data"
    },
    {
     "data": {
      "image/png": "[encoded data removed]",
      "text/plain": [
       "<Figure size 1440x720 with 1 Axes>"
      ]
     },
     "metadata": {},
     "output_type": "display_data"
    },
    {
     "data": {
      "image/png": "[encoded data removed]",
      "text/plain": [
       "<Figure size 1440x720 with 1 Axes>"
      ]
     },
     "metadata": {},
     "output_type": "display_data"
    },
    {
     "data": {
      "image/png": "[encoded data removed]",
      "text/plain": [
       "<Figure size 1440x720 with 1 Axes>"
      ]
     },
     "metadata": {},
     "output_type": "display_data"
    },
    {
     "data": {
      "image/png": "[encoded data removed]",
      "text/plain": [
       "<Figure size 1440x720 with 1 Axes>"
      ]
     },
     "metadata": {},
     "output_type": "display_data"
    },
    {
     "data": {
      "image/png": "[encoded data removed]",
      "text/plain": [
       "<Figure size 1440x720 with 1 Axes>"
      ]
     },
     "metadata": {},
     "output_type": "display_data"
    },
    {
     "data": {
      "image/png": "[encoded data removed]",
      "text/plain": [
       "<Figure size 1440x720 with 1 Axes>"
      ]
     },
     "metadata": {},
     "output_type": "display_data"
    }
   ],
   "source": [
    "## TODO: visualize your test output\n",
    "# you can use the same function as before, by un-commenting the line below:\n",
    "\n",
    "visualize_output(test_images, test_outputs, gt_pts)\n"
   ]
  },
  {
   "cell_type": "markdown",
   "metadata": {},
   "source": [
    "Once you've found a good model (or two), save your model so you can load it and use it later!\n",
    "\n",
    "Save your models but please **delete any checkpoints and saved models before you submit your project** otherwise your workspace may be too large to submit."
   ]
  },
  {
   "cell_type": "code",
   "execution_count": 28,
   "metadata": {},
   "outputs": [],
   "source": [
    "## TODO: change the name to something uniqe for each new model\n",
    "model_dir = './saved_models/'\n",
    "model_name = 'keypoints_model_final.pt'\n",
    "\n",
    "# after training, save your model parameters in the dir 'saved_models'\n",
    "torch.save(net.state_dict(), model_dir+model_name)"
   ]
  },
  {
   "cell_type": "markdown",
   "metadata": {},
   "source": [
    "After you've trained a well-performing model, answer the following questions so that we have some insight into your training and architecture selection process. Answering all questions is required to pass this project."
   ]
  },
  {
   "cell_type": "markdown",
   "metadata": {},
   "source": [
    "### Question 1: What optimization and loss functions did you choose and why?\n"
   ]
  },
  {
   "cell_type": "markdown",
   "metadata": {},
   "source": [
    "<u><b>Optimization</b></u>: I used Adam (Adaptive momentum estimation, 2015) with learning rate of 0.001, $B_1$ (1st moment) of 0.9, $B_2$ (2nd moment) of 0.999 and $\\epsilon$ of 1e-08. <br>\n",
    "\n",
    "<ul>\n",
    "    <li>$B_1$ of 0.9 allows us to average over the last $\\dfrac{1}{1-\\beta} = 10$ iterations of gradient, and controls the exponentially weighted average. <br>\n",
    "    </li>\n",
    "    <li>$B_2$ comes from RMSpop (Root Mean Square Propagation) that helps tackling the oscillations. <br>\n",
    "    </li>\n",
    "    <li>$\\epsilon$ is to make sure that the RMSprop part doesn't divide by 0. Hence, to ensure numerical stability, when implementing this in practice, you add a very small epsilon\n",
    "    </li>\n",
    "</ul>\n",
    "\n",
    "<u><b>Loss</b></u>: The outputs we are looking for are the coordinated (x, y) of the 68 keypoints of a face, coordinates are continuous values and therefore we have a regression problem. \n",
    "<ul>\n",
    "    <li>The Mean Squared error is a great loss function as it penalize more big errors. I first used that but noticed that the loss was excessively too high at some times</li>\n",
    "    <li>To address the high loss, I opted for the `SmoothL1Loss` which is also known as the Huber Loss, it creates a criterion that uses a squared term if the absolute\n",
    "    element-wise error falls below 1 and an L1 term otherwise.\n",
    "    It is less sensitive to outliers than the `MSELoss` and in some cases\n",
    "        prevents exploding gradients \n",
    "    </li>\n",
    "</ul>"
   ]
  },
  {
   "cell_type": "markdown",
   "metadata": {},
   "source": [
    "### Question 2: What kind of network architecture did you start with and how did it change as you tried different architectures? Did you decide to add more convolutional layers or any layers to avoid overfitting the data?"
   ]
  },
  {
   "cell_type": "markdown",
   "metadata": {},
   "source": [
    "I used Naimish architecture from the paper `Facial Key Points Detection using Deep Convolutional Neural Network, 2017`. The only I changed was the last 2 dense layers as I did not understand why making 1000 nodes to 1000 nodes was particularly interesting and the output is 136 values in this problem."
   ]
  },
  {
   "cell_type": "markdown",
   "metadata": {},
   "source": [
    "### Question 3: How did you decide on the number of epochs and batch_size to train your model?"
   ]
  },
  {
   "cell_type": "markdown",
   "metadata": {},
   "source": [
    "I set the # of epochs to be 5 as it seemed to give accurate results at this point. <br>\n",
    "The batch_size of 10 is enough as for each epoch we iterate over the data 320 times to update the gradients. "
   ]
  },
  {
   "cell_type": "markdown",
   "metadata": {},
   "source": [
    "## Feature Visualization\n",
    "\n",
    "Sometimes, neural networks are thought of as a black box, given some input, they learn to produce some output. CNN's are actually learning to recognize a variety of spatial patterns and you can visualize what each convolutional layer has been trained to recognize by looking at the weights that make up each convolutional kernel and applying those one at a time to a sample image. This technique is called feature visualization and it's useful for understanding the inner workings of a CNN."
   ]
  },
  {
   "cell_type": "markdown",
   "metadata": {},
   "source": [
    "In the cell below, you can see how to extract a single filter (by index) from your first convolutional layer. The filter should appear as a grayscale grid."
   ]
  },
  {
   "cell_type": "code",
   "execution_count": 24,
   "metadata": {},
   "outputs": [
    {
     "name": "stdout",
     "output_type": "stream",
     "text": [
      "[[ 0.14792383  0.09529229  0.10730599 -0.00889933 -0.08250103]\n",
      " [-0.12826665  0.07328201  0.03375063 -0.01637216 -0.06007462]\n",
      " [-0.17194846  0.00138457 -0.014694    0.05510569 -0.24774371]\n",
      " [-0.14643918  0.06612041 -0.04858907 -0.17046644  0.04253715]\n",
      " [ 0.05345808  0.0344771   0.05487927 -0.0389505  -0.05787838]]\n",
      "(5, 5)\n"
     ]
    },
    {
     "data": {
      "text/plain": [
       "<matplotlib.image.AxesImage at 0x7f5fd4710518>"
      ]
     },
     "execution_count": 24,
     "metadata": {},
     "output_type": "execute_result"
    },
    {
     "data": {
      "image/png": "[encoded data removed]",
      "text/plain": [
       "<Figure size 432x288 with 1 Axes>"
      ]
     },
     "metadata": {},
     "output_type": "display_data"
    }
   ],
   "source": [
    "# Get the weights in the first conv layer, \"conv1\"\n",
    "# if necessary, change this to reflect the name of your first conv layer\n",
    "weights1 = net.conv1.weight.data\n",
    "\n",
    "w = weights1.cpu().numpy()\n",
    "\n",
    "filter_index = 0\n",
    "\n",
    "print(w[filter_index][0])\n",
    "print(w[filter_index][0].shape)\n",
    "\n",
    "# display the filter weights\n",
    "plt.imshow(w[filter_index][0], cmap='gray')\n"
   ]
  },
  {
   "cell_type": "markdown",
   "metadata": {},
   "source": [
    "## Feature maps\n",
    "\n",
    "Each CNN has at least one convolutional layer that is composed of stacked filters (also known as convolutional kernels). As a CNN trains, it learns what weights to include in it's convolutional kernels and when these kernels are applied to some input image, they produce a set of **feature maps**. So, feature maps are just sets of filtered images; they are the images produced by applying a convolutional kernel to an input image. These maps show us the features that the different layers of the neural network learn to extract. For example, you might imagine a convolutional kernel that detects the vertical edges of a face or another one that detects the corners of eyes. You can see what kind of features each of these kernels detects by applying them to an image. One such example is shown below; from the way it brings out the lines in an the image, you might characterize this as an edge detection filter.\n",
    "\n",
    "<img src='images/feature_map_ex.png' width=50% height=50%/>\n",
    "\n",
    "\n",
    "Next, choose a test image and filter it with one of the convolutional kernels in your trained CNN; look at the filtered output to get an idea what that particular kernel detects.\n",
    "\n",
    "### TODO: Filter an image to see the effect of a convolutional kernel\n",
    "---"
   ]
  },
  {
   "cell_type": "code",
   "execution_count": 27,
   "metadata": {},
   "outputs": [
    {
     "name": "stdout",
     "output_type": "stream",
     "text": [
      "[[ 0.14792383  0.09529229  0.10730599 -0.00889933 -0.08250103]\n",
      " [-0.12826665  0.07328201  0.03375063 -0.01637216 -0.06007462]\n",
      " [-0.17194846  0.00138457 -0.014694    0.05510569 -0.24774371]\n",
      " [-0.14643918  0.06612041 -0.04858907 -0.17046644  0.04253715]\n",
      " [ 0.05345808  0.0344771   0.05487927 -0.0389505  -0.05787838]]\n",
      "(5, 5)\n"
     ]
    },
    {
     "data": {
      "text/plain": [
       "<matplotlib.image.AxesImage at 0x7f5fd49714a8>"
      ]
     },
     "execution_count": 27,
     "metadata": {},
     "output_type": "execute_result"
    },
    {
     "data": {
      "image/png": "[encoded data removed]",
      "text/plain": [
       "<Figure size 432x288 with 1 Axes>"
      ]
     },
     "metadata": {},
     "output_type": "display_data"
    }
   ],
   "source": [
    "import cv2\n",
    "##TODO: load in and display any image from the transformed test dataset\n",
    "\n",
    "## TODO: Using cv's filter2D function,\n",
    "## apply a specific set of filter weights (like the one displayed above) to the test image\n",
    "\n",
    "weights1 = net.conv1.weight.data\n",
    "\n",
    "w = weights1.cpu().numpy()\n",
    "\n",
    "filter_index = 0\n",
    "\n",
    "print(w[filter_index][0])\n",
    "print(w[filter_index][0].shape)\n",
    "\n",
    "# display the filter weights\n",
    "# plt.imshow(w[filter_index][0], cmap='gray')\n",
    "\n",
    "\n",
    "idx_img = 0\n",
    "img = np.squeeze(test_images[idx_img].data.cpu().numpy())\n",
    "\n",
    "# plt.imshow(img, cmap=\"gray\")\n",
    "\n",
    "filtered_img = cv2.filter2D(img, -1, w[filter_index][0])\n",
    "plt.imshow(filtered_img, cmap=\"gray\")"
   ]
  },
  {
   "cell_type": "markdown",
   "metadata": {},
   "source": [
    "### Question 4: Choose one filter from your trained CNN and apply it to a test image; what purpose do you think it plays? What kind of feature do you think it detects?\n"
   ]
  },
  {
   "cell_type": "markdown",
   "metadata": {},
   "source": [
    "The filter seems to blur out noise"
   ]
  },
  {
   "cell_type": "markdown",
   "metadata": {},
   "source": [
    "---\n",
    "## Moving on!\n",
    "\n",
    "Now that you've defined and trained your model (and saved the best model), you are ready to move on to the last notebook, which combines a face detector with your saved model to create a facial keypoint detection system that can predict the keypoints on *any* face in an image!"
   ]
  }
 ],
 "metadata": {
  "kernelspec": {
   "display_name": "Python 3",
   "language": "python",
   "name": "python3"
  },
  "language_info": {
   "codemirror_mode": {
    "name": "ipython",
    "version": 3
   },
   "file_extension": ".py",
   "mimetype": "text/x-python",
   "name": "python",
   "nbconvert_exporter": "python",
   "pygments_lexer": "ipython3",
   "version": "3.6.8"
  }
 },
 "nbformat": 4,
 "nbformat_minor": 2
}
